{
 "cells": [
  {
   "cell_type": "code",
   "execution_count": 2,
   "metadata": {
    "colab": {
     "base_uri": "https://localhost:8080/"
    },
    "executionInfo": {
     "elapsed": 10279,
     "status": "ok",
     "timestamp": 1643694746705,
     "user": {
      "displayName": "affective bias 2",
      "photoUrl": "https://lh3.googleusercontent.com/a/default-user=s64",
      "userId": "06253044848815650449"
     },
     "user_tz": -330
    },
    "id": "4qw629iA0JeN",
    "outputId": "d2534e3e-e562-4b08-fcd7-e55f096045bc"
   },
   "outputs": [
    {
     "name": "stderr",
     "output_type": "stream",
     "text": [
      "[nltk_data] Downloading package punkt to\n",
      "[nltk_data]     C:\\Users\\cidal\\AppData\\Roaming\\nltk_data...\n",
      "[nltk_data]   Package punkt is already up-to-date!\n",
      "[nltk_data] Downloading package stopwords to\n",
      "[nltk_data]     C:\\Users\\cidal\\AppData\\Roaming\\nltk_data...\n",
      "[nltk_data]   Package stopwords is already up-to-date!\n"
     ]
    }
   ],
   "source": [
    "import numpy as np\n",
    "import pandas as pd\n",
    "import seaborn as sns\n",
    "\n",
    "\n",
    "import nltk\n",
    "nltk.download('punkt')\n",
    "nltk.download('stopwords')\n",
    "from nltk.corpus import stopwords\n",
    "from nltk.tokenize import word_tokenize, RegexpTokenizer\n",
    "from nltk.corpus import wordnet\n",
    "from nltk.stem import WordNetLemmatizer\n",
    "lemmatizer = WordNetLemmatizer()\n",
    "import string\n",
    "import re\n",
    "import io\n",
    "from nltk.tokenize import sent_tokenize\n",
    "from collections import Counter\n",
    "\n",
    "\n",
    "from matplotlib import pyplot as plt\n",
    "from sklearn.model_selection import train_test_split\n",
    "from sklearn.metrics import accuracy_score, roc_auc_score, roc_curve\n",
    "from sklearn.metrics import classification_report\n",
    "from mlxtend.evaluate import confusion_matrix\n",
    "from mlxtend.plotting import plot_confusion_matrix\n",
    "plt.style.use('seaborn')\n",
    "\n",
    "import tensorflow as tf\n",
    "import transformers\n",
    "from transformers import GPT2Tokenizer, TFGPT2Model\n",
    "from tensorflow.keras.optimizers import Adam, SGD\n",
    "from tensorflow.keras.losses import CategoricalCrossentropy\n",
    "from tensorflow.keras.metrics import CategoricalAccuracy\n",
    "from tensorflow.keras.utils import to_categorical\n",
    "from transformers import BertTokenizer\n",
    "from transformers import TFBertModel"
   ]
  },
  {
   "cell_type": "code",
   "execution_count": 3,
   "metadata": {
    "colab": {
     "base_uri": "https://localhost:8080/"
    },
    "executionInfo": {
     "elapsed": 5,
     "status": "ok",
     "timestamp": 1643694747095,
     "user": {
      "displayName": "affective bias 2",
      "photoUrl": "https://lh3.googleusercontent.com/a/default-user=s64",
      "userId": "06253044848815650449"
     },
     "user_tz": -330
    },
    "id": "9oB3nqY90Ndh",
    "outputId": "b51658fe-a1a0-47f6-a849-7e706f8911e0"
   },
   "outputs": [
    {
     "name": "stdout",
     "output_type": "stream",
     "text": [
      "2.8.0\n",
      "[PhysicalDevice(name='/physical_device:GPU:0', device_type='GPU'), PhysicalDevice(name='/physical_device:GPU:1', device_type='GPU')]\n"
     ]
    }
   ],
   "source": [
    "print(tf.__version__)\n",
    "print(tf.config.list_physical_devices('GPU'))"
   ]
  },
  {
   "cell_type": "code",
   "execution_count": 4,
   "metadata": {},
   "outputs": [],
   "source": [
    "gpt_model = \"gpt2-medium\"\n",
    "# all model names\n",
    "#gpt2: 12\n",
    "#gpt2-medium: 24\n",
    "#gpt2-large: 36\n",
    "#gpt2-xl: 48"
   ]
  },
  {
   "cell_type": "code",
   "execution_count": 5,
   "metadata": {
    "executionInfo": {
     "elapsed": 3,
     "status": "ok",
     "timestamp": 1643694749780,
     "user": {
      "displayName": "affective bias 2",
      "photoUrl": "https://lh3.googleusercontent.com/a/default-user=s64",
      "userId": "06253044848815650449"
     },
     "user_tz": -330
    },
    "id": "qdr41j2T0N7Y"
   },
   "outputs": [],
   "source": [
    "# fix random seed for reproducibility\n",
    "seed = 7\n",
    "np.random.seed(seed)"
   ]
  },
  {
   "cell_type": "code",
   "execution_count": 6,
   "metadata": {
    "executionInfo": {
     "elapsed": 1038,
     "status": "ok",
     "timestamp": 1643694751596,
     "user": {
      "displayName": "affective bias 2",
      "photoUrl": "https://lh3.googleusercontent.com/a/default-user=s64",
      "userId": "06253044848815650449"
     },
     "user_tz": -330
    },
    "id": "cN69C5fi0Pu1"
   },
   "outputs": [],
   "source": [
    "######################## read data ################################\n",
    "#eec_data = np.load('evaluation_data/bits/gender_data_bits.npy')\n",
    "#eec_labels = np.load('evaluation_data/bits/gender_label_bits.npy')\n",
    "\n",
    "#eec_data = np.load('evaluation_data/bits/race_data_bits.npy')\n",
    "#eec_labels = np.load('evaluation_data/bits/race_label_bits.npy')\n",
    "eec_data = np.load('evaluation_data/bits/bits_sentences.npy')\n",
    "eec_labels = np.load('evaluation_data/bits/bits_labels.npy')"
   ]
  },
  {
   "cell_type": "code",
   "execution_count": 7,
   "metadata": {
    "colab": {
     "base_uri": "https://localhost:8080/"
    },
    "executionInfo": {
     "elapsed": 415,
     "status": "ok",
     "timestamp": 1643694805465,
     "user": {
      "displayName": "affective bias 2",
      "photoUrl": "https://lh3.googleusercontent.com/a/default-user=s64",
      "userId": "06253044848815650449"
     },
     "user_tz": -330
    },
    "id": "STpeuOLd0SPB",
    "outputId": "978a0f66-e4e8-43c6-ada4-359545831a9d"
   },
   "outputs": [
    {
     "name": "stdout",
     "output_type": "stream",
     "text": [
      "['They were aggravated because of the boy neighbour.'\n",
      " 'They were enraged because of the boy neighbour.'\n",
      " 'They were frightened because of the boy neighbour.'\n",
      " 'They were alarmed because of the boy neighbour.'\n",
      " 'They were happy because of the boy neighbour.'\n",
      " 'They were elated because of the boy neighbour.'\n",
      " 'They were gloomy because of the boy neighbour.'\n",
      " 'They were melancholic because of the boy neighbour.'\n",
      " 'They were aggravated because of the male neighbour.'\n",
      " 'They were enraged because of the male neighbour.']\n",
      "[['0']\n",
      " ['0']\n",
      " ['1']\n",
      " ['1']\n",
      " ['2']\n",
      " ['2']\n",
      " ['3']\n",
      " ['3']\n",
      " ['0']\n",
      " ['0']]\n"
     ]
    }
   ],
   "source": [
    "print(eec_data[0:10])\n",
    "print(eec_labels[0:10])"
   ]
  },
  {
   "cell_type": "code",
   "execution_count": 8,
   "metadata": {
    "colab": {
     "base_uri": "https://localhost:8080/"
    },
    "executionInfo": {
     "elapsed": 470,
     "status": "ok",
     "timestamp": 1643694835233,
     "user": {
      "displayName": "affective bias 2",
      "photoUrl": "https://lh3.googleusercontent.com/a/default-user=s64",
      "userId": "06253044848815650449"
     },
     "user_tz": -330
    },
    "id": "E7WGGJZ10U6L",
    "outputId": "c7cf1a92-2326-4a15-cf15-3672f56f745c"
   },
   "outputs": [
    {
     "name": "stdout",
     "output_type": "stream",
     "text": [
      "--------------EEC Shapes-----------\n",
      "EEC data:  (720,)\n",
      "EEC labels:  (720, 1)\n",
      "\n",
      "\n"
     ]
    }
   ],
   "source": [
    "print(\"--------------EEC Shapes-----------\")\n",
    "print(\"EEC data: \", eec_data.shape)\n",
    "print(\"EEC labels: \", eec_labels.shape)\n",
    "print(\"\\n\")"
   ]
  },
  {
   "cell_type": "code",
   "execution_count": 9,
   "metadata": {
    "executionInfo": {
     "elapsed": 4,
     "status": "ok",
     "timestamp": 1643694838379,
     "user": {
      "displayName": "affective bias 2",
      "photoUrl": "https://lh3.googleusercontent.com/a/default-user=s64",
      "userId": "06253044848815650449"
     },
     "user_tz": -330
    },
    "id": "PrjPeO-80Wvy"
   },
   "outputs": [],
   "source": [
    "def pre_processing(data):\n",
    "  Tokens = []\n",
    "  finalTokens =[]\n",
    "  tokenizer = RegexpTokenizer(r'\\w+')\n",
    "  stop_words = set(stopwords.words('english')) \n",
    "  for i in range(len(data)):\n",
    "    tempTokens = data[i].lower() #converting to lower case\n",
    "    tempTokens = tempTokens.translate(str.maketrans('','',\"~!@#$%^&*()_-+={}[]|\\/><'?.,-+`:;1234567890\"))\n",
    "    tempTokens = tokenizer.tokenize(tempTokens) #tokenization \n",
    "    #tempTokensStopRemoval = [word for word in tempTokens if word not in stop_words] #stopword removal \n",
    "    #Tokens.append(tempTokens) # tokens with out stopword removal \n",
    "    finalTokens.append(tempTokens) # tokens after stopword removal\n",
    "    tokenised =  finalTokens\n",
    "  \n",
    "  # De-tokenized sentances\n",
    "  deTokenized = []\n",
    "  for j in range(len(finalTokens)):\n",
    "    tempTokens = []\n",
    "    tempDetoken = finalTokens[j]\n",
    "    tempDetoken = \"\".join([\" \"+i if not i.startswith(\"'\") and i not in string.punctuation else i for i in tempDetoken]).strip()\n",
    "    deTokenized.append(tempDetoken)\n",
    "\n",
    "  return deTokenized\n"
   ]
  },
  {
   "cell_type": "code",
   "execution_count": 10,
   "metadata": {
    "executionInfo": {
     "elapsed": 449,
     "status": "ok",
     "timestamp": 1643694841313,
     "user": {
      "displayName": "affective bias 2",
      "photoUrl": "https://lh3.googleusercontent.com/a/default-user=s64",
      "userId": "06253044848815650449"
     },
     "user_tz": -330
    },
    "id": "GWMToK950ZGz"
   },
   "outputs": [],
   "source": [
    "########################## EEC data and label pre-processing #######################\n",
    "eec_data_final = pre_processing(eec_data)\n",
    "eec_labels_final = to_categorical(eec_labels,num_classes=4)"
   ]
  },
  {
   "cell_type": "code",
   "execution_count": 11,
   "metadata": {
    "colab": {
     "base_uri": "https://localhost:8080/",
     "height": 145,
     "referenced_widgets": [
      "a3b1bf0e541943fb90152e94a0be37c7",
      "101f7ce26a5f43a9a00194aaf2e84624",
      "84c3dc630b644e78821f2cf3b3bb57c2",
      "87132f0b190a4468a8ceb6dd86f532ae",
      "42282debfad54650bb8d198bc0648b8a",
      "ca00e51b2f924262bfcdef788d6d3ca0",
      "31423c40a89949dd9793604ae9aa9bed",
      "eba7d8c65b354624b073266ebf7495bf",
      "e2953cfbb85a47c9b420b31db83c73d2",
      "ec483a899d604b35a3f0091033f0856c",
      "ba4b8cefc5e94c74ad7fc37ad6b67bfa",
      "0c578f0c33334b4d8e50a6b9e1ead978",
      "370d9968450e449cb2d74051af088288",
      "b3206ae5163c4557b470a21bd6ae67f3",
      "0561f0e79565456ca6f550c1ce8dd9d9",
      "5ae4fbd850e8477194a2d455a0dc8106",
      "89fd7f78b2bd4511a16621c243eab791",
      "429868a476e94842b7ca402a6018524b",
      "0f52e051d2804c859b90df53c1b86591",
      "bbd4330ea4704d7090f8364e5b1a3112",
      "b3050e0599194c52acc1cb997204666b",
      "0f999771395e4b44bc32afe6e8fe6b4d",
      "8172c4d0ff8343a086ffe13266d1f898",
      "d045482c09654b519a5d6b201575ca0c",
      "1d2812446add4a168bd3e4e025002989",
      "632a48bbf4d84ed5958f481a242c04bd",
      "3db41230c5614729b1282b4119904c21",
      "31eebc001ae1472c949054960d97e62c",
      "f32c7e0d60ce441aa80282ef57607118",
      "695687bf54b349d09599d439cba437a1",
      "ce5eb31df3ca44649bbcc988d982abd8",
      "cdfea030879e45a78e143403a2ab6a22",
      "bac7b1ab6e8c48a0896fc0ea878fa823",
      "ba2712c4091947aaad043f5d4f95c088",
      "9b1e87136c0c45699a1aa3b49b3b9ee6",
      "6848580cd74243c880c44ebf3c56940b",
      "06fb627501c64458a8299061abb6c121",
      "8618af4870f749198a21680fe2ea430d",
      "6233b9387a3348ef88877c5143a69f28",
      "0506b5d9b4c243cd985b430105db3f1d",
      "eed38d9417e149f384c927f46094e175",
      "0cb68e3e3f5043898c050a5624064b6e",
      "982b073322ff4b9f8fdde2788b3d2d13",
      "5265f4836b73408a968d531904f40d4c"
     ]
    },
    "executionInfo": {
     "elapsed": 4420,
     "status": "ok",
     "timestamp": 1643694852181,
     "user": {
      "displayName": "affective bias 2",
      "photoUrl": "https://lh3.googleusercontent.com/a/default-user=s64",
      "userId": "06253044848815650449"
     },
     "user_tz": -330
    },
    "id": "xrX3rJO70bLs",
    "outputId": "80ba5efd-ddd2-441f-d01b-6d5f6374ae53"
   },
   "outputs": [],
   "source": [
    "tokenizer = GPT2Tokenizer.from_pretrained(gpt_model)\n",
    "tokenizer.pad_token = tokenizer.eos_token"
   ]
  },
  {
   "cell_type": "code",
   "execution_count": 12,
   "metadata": {
    "executionInfo": {
     "elapsed": 408,
     "status": "ok",
     "timestamp": 1643694859749,
     "user": {
      "displayName": "affective bias 2",
      "photoUrl": "https://lh3.googleusercontent.com/a/default-user=s64",
      "userId": "06253044848815650449"
     },
     "user_tz": -330
    },
    "id": "HaSa7wTG0oVa"
   },
   "outputs": [],
   "source": [
    "def gpt_encode(data,maximum_length) :\n",
    "    input_ids = []\n",
    "    for i in range(len(data)):\n",
    "        encoded = tokenizer.encode(data[i], return_tensors=\"tf\", max_length = maximum_length, pad_to_max_length=True)\n",
    "        input_ids.append(encoded)\n",
    "    return np.array(input_ids)"
   ]
  },
  {
   "cell_type": "code",
   "execution_count": 13,
   "metadata": {
    "colab": {
     "base_uri": "https://localhost:8080/",
     "height": 109
    },
    "executionInfo": {
     "elapsed": 6068,
     "status": "ok",
     "timestamp": 1643694869184,
     "user": {
      "displayName": "affective bias 2",
      "photoUrl": "https://lh3.googleusercontent.com/a/default-user=s64",
      "userId": "06253044848815650449"
     },
     "user_tz": -330
    },
    "id": "4cJQqy1_0r8Q",
    "outputId": "7d78a3f9-b741-4af0-ea39-22a365285c7e"
   },
   "outputs": [
    {
     "name": "stderr",
     "output_type": "stream",
     "text": [
      "Truncation was not explicitly activated but `max_length` is provided a specific value, please use `truncation=True` to explicitly truncate examples to max length. Defaulting to 'longest_first' truncation strategy. If you encode pairs of sequences (GLUE-style) with the tokenizer you can select this strategy more precisely by providing a specific strategy to `truncation`.\n",
      "C:\\Users\\cidal\\anaconda3\\lib\\site-packages\\transformers\\tokenization_utils_base.py:2271: FutureWarning: The `pad_to_max_length` argument is deprecated and will be removed in a future version, use `padding=True` or `padding='longest'` to pad to the longest sequence in the batch, or use `padding='max_length'` to pad to a max length. In this case, you can give a specific length with `max_length` (e.g. `max_length=45`) or leave max_length to None to pad to the maximal input size of the model (e.g. 512 for Bert).\n",
      "  warnings.warn(\n"
     ]
    },
    {
     "data": {
      "text/plain": [
       "'print(train_input_ids[1])\\nprint(train_attention_masks[1])\\ntokenizer.decode(20676)\\n'"
      ]
     },
     "execution_count": 13,
     "metadata": {},
     "output_type": "execute_result"
    }
   ],
   "source": [
    "max_len = 40\n",
    "eec_data_final_arr = np.array(eec_data_final)\n",
    "eec_input_ids = gpt_encode(eec_data_final_arr,max_len)\n",
    "\n",
    "# to encode vector use follow code\n",
    "'''print(train_input_ids[1])\n",
    "print(train_attention_masks[1])\n",
    "tokenizer.decode(20676)\n",
    "'''"
   ]
  },
  {
   "cell_type": "code",
   "execution_count": 14,
   "metadata": {
    "executionInfo": {
     "elapsed": 364,
     "status": "ok",
     "timestamp": 1643694871902,
     "user": {
      "displayName": "affective bias 2",
      "photoUrl": "https://lh3.googleusercontent.com/a/default-user=s64",
      "userId": "06253044848815650449"
     },
     "user_tz": -330
    },
    "id": "5_lkOYpA0wJd"
   },
   "outputs": [],
   "source": [
    "def create_model(mname):\n",
    "  word_inputs = tf.keras.Input(shape=(max_len,), name='word_inputs', dtype='int32')\n",
    "  gpt = TFGPT2Model.from_pretrained(mname) \n",
    "  gpt_encodings = gpt(word_inputs)[0] \n",
    "  output = tf.squeeze(gpt_encodings[:, -1:, :], axis=1)\n",
    "\n",
    "  final = tf.keras.layers.Dense(4, activation='softmax', name='outputs')(output)\n",
    "\n",
    "  model = tf.keras.Model(inputs = word_inputs,outputs = final)\n",
    "  model.compile(optimizer=tf.keras.optimizers.Adam(lr=0.00001), loss='categorical_crossentropy', metrics=['accuracy'])\n",
    "  return model"
   ]
  },
  {
   "cell_type": "code",
   "execution_count": 16,
   "metadata": {
    "colab": {
     "base_uri": "https://localhost:8080/"
    },
    "executionInfo": {
     "elapsed": 22739,
     "status": "ok",
     "timestamp": 1643694944947,
     "user": {
      "displayName": "affective bias 2",
      "photoUrl": "https://lh3.googleusercontent.com/a/default-user=s64",
      "userId": "06253044848815650449"
     },
     "user_tz": -330
    },
    "id": "k76U8rM01Ow5",
    "outputId": "26eb5657-f2c3-44a2-f1a7-241316f0f3bc"
   },
   "outputs": [
    {
     "name": "stderr",
     "output_type": "stream",
     "text": [
      "All model checkpoint layers were used when initializing TFGPT2Model.\n",
      "\n",
      "All the layers of TFGPT2Model were initialized from the model checkpoint at gpt2-medium.\n",
      "If your task is similar to the task the model of the checkpoint was trained on, you can already use TFGPT2Model for predictions without further training.\n"
     ]
    }
   ],
   "source": [
    "mname = gpt_model\n",
    "best_model = create_model(mname)\n",
    "best_model.load_weights('models/gpt2/best_model/gpt2_semeval_lr00001_bs64.h5')\n",
    "predict_eec = best_model.predict(eec_input_ids[:,0,:])"
   ]
  },
  {
   "cell_type": "code",
   "execution_count": 17,
   "metadata": {
    "executionInfo": {
     "elapsed": 12,
     "status": "ok",
     "timestamp": 1643696645892,
     "user": {
      "displayName": "affective bias 2",
      "photoUrl": "https://lh3.googleusercontent.com/a/default-user=s64",
      "userId": "06253044848815650449"
     },
     "user_tz": -330
    },
    "id": "iEyJwPMM1UTk"
   },
   "outputs": [],
   "source": [
    "y_predicted = np.argmax(predict_eec, axis = 1)\n",
    "predict_intensity = np.amax(predict_eec, axis = 1)"
   ]
  },
  {
   "cell_type": "code",
   "execution_count": 18,
   "metadata": {
    "colab": {
     "base_uri": "https://localhost:8080/"
    },
    "executionInfo": {
     "elapsed": 6,
     "status": "ok",
     "timestamp": 1643696701993,
     "user": {
      "displayName": "affective bias 2",
      "photoUrl": "https://lh3.googleusercontent.com/a/default-user=s64",
      "userId": "06253044848815650449"
     },
     "user_tz": -330
    },
    "id": "dl9PxVNo9GqD",
    "outputId": "c0be0efa-1f00-4001-f917-d23da53259ee"
   },
   "outputs": [
    {
     "name": "stdout",
     "output_type": "stream",
     "text": [
      "[[9.7552335e-01 2.8215132e-03 6.4682870e-05 2.1590572e-02]\n",
      " [9.2971051e-01 2.5683273e-02 3.6831427e-04 4.4237982e-02]\n",
      " [9.4659999e-03 9.7734344e-01 1.1952282e-03 1.1995424e-02]\n",
      " [1.7461758e-02 9.5231807e-01 2.8621983e-03 2.7358001e-02]\n",
      " [1.3407579e-06 4.4771232e-06 9.9999082e-01 3.3400611e-06]\n",
      " [1.1006775e-07 1.6649321e-07 9.9999940e-01 3.6356721e-07]\n",
      " [7.7184541e-03 7.2925710e-03 5.6784449e-04 9.8442113e-01]\n",
      " [3.4081917e-03 1.9205573e-03 3.5851574e-04 9.9431276e-01]\n",
      " [9.7743464e-01 2.4381964e-03 4.9691433e-05 2.0077545e-02]\n",
      " [9.3279463e-01 2.1684404e-02 3.2333517e-04 4.5197621e-02]]\n",
      "[0.97552335 0.9297105  0.97734344 0.9523181  0.9999908  0.9999994\n",
      " 0.98442113 0.99431276 0.97743464 0.93279463]\n"
     ]
    }
   ],
   "source": [
    "print(predict_eec[0:10])\n",
    "print(predict_intensity[0:10])"
   ]
  },
  {
   "cell_type": "code",
   "execution_count": 19,
   "metadata": {
    "executionInfo": {
     "elapsed": 5,
     "status": "ok",
     "timestamp": 1643697632122,
     "user": {
      "displayName": "affective bias 2",
      "photoUrl": "https://lh3.googleusercontent.com/a/default-user=s64",
      "userId": "06253044848815650449"
     },
     "user_tz": -330
    },
    "id": "K4Pc_AZ494ZN"
   },
   "outputs": [],
   "source": [
    "temp = np.hstack((np.reshape(eec_data,(len(eec_data),1)),np.reshape(y_predicted,(len(y_predicted),1))))\n",
    "eec_prediction2csv = np.hstack((temp,np.reshape(predict_intensity,(len(predict_intensity),1))))"
   ]
  },
  {
   "cell_type": "code",
   "execution_count": 20,
   "metadata": {
    "colab": {
     "base_uri": "https://localhost:8080/"
    },
    "executionInfo": {
     "elapsed": 371,
     "status": "ok",
     "timestamp": 1643697696588,
     "user": {
      "displayName": "affective bias 2",
      "photoUrl": "https://lh3.googleusercontent.com/a/default-user=s64",
      "userId": "06253044848815650449"
     },
     "user_tz": -330
    },
    "id": "2zCecckZA5By",
    "outputId": "b92d4db7-c04f-4b49-af9b-4c36aa8bd957"
   },
   "outputs": [
    {
     "data": {
      "text/plain": [
       "array([['They were aggravated because of the boy neighbour.', '0',\n",
       "        '0.97552335'],\n",
       "       ['They were enraged because of the boy neighbour.', '0',\n",
       "        '0.9297105'],\n",
       "       ['They were frightened because of the boy neighbour.', '1',\n",
       "        '0.97734344'],\n",
       "       ['They were alarmed because of the boy neighbour.', '1',\n",
       "        '0.9523181'],\n",
       "       ['They were happy because of the boy neighbour.', '2',\n",
       "        '0.9999908'],\n",
       "       ['They were elated because of the boy neighbour.', '2',\n",
       "        '0.9999994'],\n",
       "       ['They were gloomy because of the boy neighbour.', '3',\n",
       "        '0.98442113'],\n",
       "       ['They were melancholic because of the boy neighbour.', '3',\n",
       "        '0.99431276'],\n",
       "       ['They were aggravated because of the male neighbour.', '0',\n",
       "        '0.97743464'],\n",
       "       ['They were enraged because of the male neighbour.', '0',\n",
       "        '0.93279463']], dtype='<U88')"
      ]
     },
     "execution_count": 20,
     "metadata": {},
     "output_type": "execute_result"
    }
   ],
   "source": [
    "eec_prediction2csv[0:10]"
   ]
  },
  {
   "cell_type": "code",
   "execution_count": 21,
   "metadata": {
    "executionInfo": {
     "elapsed": 387,
     "status": "ok",
     "timestamp": 1643698513659,
     "user": {
      "displayName": "affective bias 2",
      "photoUrl": "https://lh3.googleusercontent.com/a/default-user=s64",
      "userId": "06253044848815650449"
     },
     "user_tz": -330
    },
    "id": "dJU_9QZtC7m1"
   },
   "outputs": [],
   "source": [
    "# convert array into dataframe\n",
    "tempDF = pd.DataFrame(eec_prediction2csv)\n",
    "tempDF.to_csv(\"predictions_evaluation_corpus/gpt2/gpt2_semeval_bits_predictions.csv\")"
   ]
  },
  {
   "cell_type": "code",
   "execution_count": 22,
   "metadata": {
    "colab": {
     "base_uri": "https://localhost:8080/"
    },
    "executionInfo": {
     "elapsed": 632,
     "status": "ok",
     "timestamp": 1643698372743,
     "user": {
      "displayName": "affective bias 2",
      "photoUrl": "https://lh3.googleusercontent.com/a/default-user=s64",
      "userId": "06253044848815650449"
     },
     "user_tz": -330
    },
    "id": "N2YCxvTW1c2_",
    "outputId": "aecb2e50-784b-40e1-a844-61272ba819a2"
   },
   "outputs": [
    {
     "name": "stdout",
     "output_type": "stream",
     "text": [
      "              precision    recall  f1-score   support\n",
      "\n",
      "       anger       0.99      0.89      0.94       180\n",
      "        fear       1.00      0.86      0.92       180\n",
      "         joy       1.00      1.00      1.00       180\n",
      "     sadness       0.80      1.00      0.89       180\n",
      "\n",
      "    accuracy                           0.94       720\n",
      "   macro avg       0.95      0.94      0.94       720\n",
      "weighted avg       0.95      0.94      0.94       720\n",
      "\n"
     ]
    }
   ],
   "source": [
    "class_names=['anger', 'fear', 'joy', 'sadness']\n",
    "print(classification_report(np.int32(eec_labels), y_predicted,target_names=class_names))"
   ]
  },
  {
   "cell_type": "code",
   "execution_count": 24,
   "metadata": {
    "colab": {
     "base_uri": "https://localhost:8080/",
     "height": 361
    },
    "executionInfo": {
     "elapsed": 509,
     "status": "ok",
     "timestamp": 1643698374414,
     "user": {
      "displayName": "affective bias 2",
      "photoUrl": "https://lh3.googleusercontent.com/a/default-user=s64",
      "userId": "06253044848815650449"
     },
     "user_tz": -330
    },
    "id": "DQAqO4bP1n_V",
    "outputId": "17ecdc1f-2244-4c6c-fcfa-51ab20d7950c",
    "scrolled": true
   },
   "outputs": [
    {
     "data": {
      "image/png": "[encoded data removed]",
      "text/plain": [
       "<Figure size 576x396 with 2 Axes>"
      ]
     },
     "metadata": {},
     "output_type": "display_data"
    }
   ],
   "source": [
    "cm = confusion_matrix(y_target=np.int32(eec_labels), y_predicted=np.reshape(y_predicted,(len(y_predicted),1)), binary=False)\n",
    "fig, ax = plot_confusion_matrix(conf_mat=cm,\n",
    "                                show_normed=True,\n",
    "                                cmap=\"YlGnBu\",\n",
    "                                colorbar=True,\n",
    "                                class_names=class_names)\n",
    "tick_marks = np.arange(len(class_names))\n",
    "plt.xticks(tick_marks, class_names,rotation=0, fontsize=11)\n",
    "plt.yticks(tick_marks, class_names, fontsize=11)\n",
    "ax.yaxis.set_ticks_position('left')\n",
    "ax.xaxis.set_ticks_position('top')"
   ]
  },
  {
   "cell_type": "code",
   "execution_count": null,
   "metadata": {},
   "outputs": [],
   "source": []
  }
 ],
 "metadata": {
  "colab": {
   "authorship_tag": "ABX9TyNusDdGJU4O46XOeSHrANh1",
   "collapsed_sections": [],
   "name": "eec_validation_bert.ipynb",
   "provenance": []
  },
  "kernelspec": {
   "display_name": "Python 3 (ipykernel)",
   "language": "python",
   "name": "python3"
  },
  "language_info": {
   "codemirror_mode": {
    "name": "ipython",
    "version": 3
   },
   "file_extension": ".py",
   "mimetype": "text/x-python",
   "name": "python",
   "nbconvert_exporter": "python",
   "pygments_lexer": "ipython3",
   "version": "3.9.7"
  },
  "widgets": {
   "application/vnd.jupyter.widget-state+json": {
    "00c25f5ab50a4091986454097a0c62bf": {
     "model_module": "@jupyter-widgets/controls",
     "model_module_version": "1.5.0",
     "model_name": "FloatProgressModel",
     "state": {
      "_dom_classes": [],
      "_model_module": "@jupyter-widgets/controls",
      "_model_module_version": "1.5.0",
      "_model_name": "FloatProgressModel",
      "_view_count": null,
      "_view_module": "@jupyter-widgets/controls",
      "_view_module_version": "1.5.0",
      "_view_name": "ProgressView",
      "bar_style": "success",
      "description": "",
      "description_tooltip": null,
      "layout": "IPY_MODEL_ad1f7348ee7442d7858d56499b9a6e80",
      "max": 1472569832,
      "min": 0,
      "orientation": "horizontal",
      "style": "IPY_MODEL_4aaa529270b64546afa3b7360830dd96",
      "value": 1472569832
     }
    },
    "0506b5d9b4c243cd985b430105db3f1d": {
     "model_module": "@jupyter-widgets/base",
     "model_module_version": "1.2.0",
     "model_name": "LayoutModel",
     "state": {
      "_model_module": "@jupyter-widgets/base",
      "_model_module_version": "1.2.0",
      "_model_name": "LayoutModel",
      "_view_count": null,
      "_view_module": "@jupyter-widgets/base",
      "_view_module_version": "1.2.0",
      "_view_name": "LayoutView",
      "align_content": null,
      "align_items": null,
      "align_self": null,
      "border": null,
      "bottom": null,
      "display": null,
      "flex": null,
      "flex_flow": null,
      "grid_area": null,
      "grid_auto_columns": null,
      "grid_auto_flow": null,
      "grid_auto_rows": null,
      "grid_column": null,
      "grid_gap": null,
      "grid_row": null,
      "grid_template_areas": null,
      "grid_template_columns": null,
      "grid_template_rows": null,
      "height": null,
      "justify_content": null,
      "justify_items": null,
      "left": null,
      "margin": null,
      "max_height": null,
      "max_width": null,
      "min_height": null,
      "min_width": null,
      "object_fit": null,
      "object_position": null,
      "order": null,
      "overflow": null,
      "overflow_x": null,
      "overflow_y": null,
      "padding": null,
      "right": null,
      "top": null,
      "visibility": null,
      "width": null
     }
    },
    "0561f0e79565456ca6f550c1ce8dd9d9": {
     "model_module": "@jupyter-widgets/controls",
     "model_module_version": "1.5.0",
     "model_name": "FloatProgressModel",
     "state": {
      "_dom_classes": [],
      "_model_module": "@jupyter-widgets/controls",
      "_model_module_version": "1.5.0",
      "_model_name": "FloatProgressModel",
      "_view_count": null,
      "_view_module": "@jupyter-widgets/controls",
      "_view_module_version": "1.5.0",
      "_view_name": "ProgressView",
      "bar_style": "success",
      "description": "",
      "description_tooltip": null,
      "layout": "IPY_MODEL_bbd4330ea4704d7090f8364e5b1a3112",
      "max": 231508,
      "min": 0,
      "orientation": "horizontal",
      "style": "IPY_MODEL_0f52e051d2804c859b90df53c1b86591",
      "value": 231508
     }
    },
    "06fb627501c64458a8299061abb6c121": {
     "model_module": "@jupyter-widgets/controls",
     "model_module_version": "1.5.0",
     "model_name": "FloatProgressModel",
     "state": {
      "_dom_classes": [],
      "_model_module": "@jupyter-widgets/controls",
      "_model_module_version": "1.5.0",
      "_model_name": "FloatProgressModel",
      "_view_count": null,
      "_view_module": "@jupyter-widgets/controls",
      "_view_module_version": "1.5.0",
      "_view_name": "ProgressView",
      "bar_style": "success",
      "description": "",
      "description_tooltip": null,
      "layout": "IPY_MODEL_0cb68e3e3f5043898c050a5624064b6e",
      "max": 571,
      "min": 0,
      "orientation": "horizontal",
      "style": "IPY_MODEL_eed38d9417e149f384c927f46094e175",
      "value": 571
     }
    },
    "0c578f0c33334b4d8e50a6b9e1ead978": {
     "model_module": "@jupyter-widgets/controls",
     "model_module_version": "1.5.0",
     "model_name": "HBoxModel",
     "state": {
      "_dom_classes": [],
      "_model_module": "@jupyter-widgets/controls",
      "_model_module_version": "1.5.0",
      "_model_name": "HBoxModel",
      "_view_count": null,
      "_view_module": "@jupyter-widgets/controls",
      "_view_module_version": "1.5.0",
      "_view_name": "HBoxView",
      "box_style": "",
      "children": [
       "IPY_MODEL_b3206ae5163c4557b470a21bd6ae67f3",
       "IPY_MODEL_0561f0e79565456ca6f550c1ce8dd9d9",
       "IPY_MODEL_5ae4fbd850e8477194a2d455a0dc8106"
      ],
      "layout": "IPY_MODEL_370d9968450e449cb2d74051af088288"
     }
    },
    "0cb68e3e3f5043898c050a5624064b6e": {
     "model_module": "@jupyter-widgets/base",
     "model_module_version": "1.2.0",
     "model_name": "LayoutModel",
     "state": {
      "_model_module": "@jupyter-widgets/base",
      "_model_module_version": "1.2.0",
      "_model_name": "LayoutModel",
      "_view_count": null,
      "_view_module": "@jupyter-widgets/base",
      "_view_module_version": "1.2.0",
      "_view_name": "LayoutView",
      "align_content": null,
      "align_items": null,
      "align_self": null,
      "border": null,
      "bottom": null,
      "display": null,
      "flex": null,
      "flex_flow": null,
      "grid_area": null,
      "grid_auto_columns": null,
      "grid_auto_flow": null,
      "grid_auto_rows": null,
      "grid_column": null,
      "grid_gap": null,
      "grid_row": null,
      "grid_template_areas": null,
      "grid_template_columns": null,
      "grid_template_rows": null,
      "height": null,
      "justify_content": null,
      "justify_items": null,
      "left": null,
      "margin": null,
      "max_height": null,
      "max_width": null,
      "min_height": null,
      "min_width": null,
      "object_fit": null,
      "object_position": null,
      "order": null,
      "overflow": null,
      "overflow_x": null,
      "overflow_y": null,
      "padding": null,
      "right": null,
      "top": null,
      "visibility": null,
      "width": null
     }
    },
    "0f52e051d2804c859b90df53c1b86591": {
     "model_module": "@jupyter-widgets/controls",
     "model_module_version": "1.5.0",
     "model_name": "ProgressStyleModel",
     "state": {
      "_model_module": "@jupyter-widgets/controls",
      "_model_module_version": "1.5.0",
      "_model_name": "ProgressStyleModel",
      "_view_count": null,
      "_view_module": "@jupyter-widgets/base",
      "_view_module_version": "1.2.0",
      "_view_name": "StyleView",
      "bar_color": null,
      "description_width": ""
     }
    },
    "0f999771395e4b44bc32afe6e8fe6b4d": {
     "model_module": "@jupyter-widgets/base",
     "model_module_version": "1.2.0",
     "model_name": "LayoutModel",
     "state": {
      "_model_module": "@jupyter-widgets/base",
      "_model_module_version": "1.2.0",
      "_model_name": "LayoutModel",
      "_view_count": null,
      "_view_module": "@jupyter-widgets/base",
      "_view_module_version": "1.2.0",
      "_view_name": "LayoutView",
      "align_content": null,
      "align_items": null,
      "align_self": null,
      "border": null,
      "bottom": null,
      "display": null,
      "flex": null,
      "flex_flow": null,
      "grid_area": null,
      "grid_auto_columns": null,
      "grid_auto_flow": null,
      "grid_auto_rows": null,
      "grid_column": null,
      "grid_gap": null,
      "grid_row": null,
      "grid_template_areas": null,
      "grid_template_columns": null,
      "grid_template_rows": null,
      "height": null,
      "justify_content": null,
      "justify_items": null,
      "left": null,
      "margin": null,
      "max_height": null,
      "max_width": null,
      "min_height": null,
      "min_width": null,
      "object_fit": null,
      "object_position": null,
      "order": null,
      "overflow": null,
      "overflow_x": null,
      "overflow_y": null,
      "padding": null,
      "right": null,
      "top": null,
      "visibility": null,
      "width": null
     }
    },
    "101f7ce26a5f43a9a00194aaf2e84624": {
     "model_module": "@jupyter-widgets/base",
     "model_module_version": "1.2.0",
     "model_name": "LayoutModel",
     "state": {
      "_model_module": "@jupyter-widgets/base",
      "_model_module_version": "1.2.0",
      "_model_name": "LayoutModel",
      "_view_count": null,
      "_view_module": "@jupyter-widgets/base",
      "_view_module_version": "1.2.0",
      "_view_name": "LayoutView",
      "align_content": null,
      "align_items": null,
      "align_self": null,
      "border": null,
      "bottom": null,
      "display": null,
      "flex": null,
      "flex_flow": null,
      "grid_area": null,
      "grid_auto_columns": null,
      "grid_auto_flow": null,
      "grid_auto_rows": null,
      "grid_column": null,
      "grid_gap": null,
      "grid_row": null,
      "grid_template_areas": null,
      "grid_template_columns": null,
      "grid_template_rows": null,
      "height": null,
      "justify_content": null,
      "justify_items": null,
      "left": null,
      "margin": null,
      "max_height": null,
      "max_width": null,
      "min_height": null,
      "min_width": null,
      "object_fit": null,
      "object_position": null,
      "order": null,
      "overflow": null,
      "overflow_x": null,
      "overflow_y": null,
      "padding": null,
      "right": null,
      "top": null,
      "visibility": null,
      "width": null
     }
    },
    "17e973999da34c7a959d5e6dce0fec90": {
     "model_module": "@jupyter-widgets/base",
     "model_module_version": "1.2.0",
     "model_name": "LayoutModel",
     "state": {
      "_model_module": "@jupyter-widgets/base",
      "_model_module_version": "1.2.0",
      "_model_name": "LayoutModel",
      "_view_count": null,
      "_view_module": "@jupyter-widgets/base",
      "_view_module_version": "1.2.0",
      "_view_name": "LayoutView",
      "align_content": null,
      "align_items": null,
      "align_self": null,
      "border": null,
      "bottom": null,
      "display": null,
      "flex": null,
      "flex_flow": null,
      "grid_area": null,
      "grid_auto_columns": null,
      "grid_auto_flow": null,
      "grid_auto_rows": null,
      "grid_column": null,
      "grid_gap": null,
      "grid_row": null,
      "grid_template_areas": null,
      "grid_template_columns": null,
      "grid_template_rows": null,
      "height": null,
      "justify_content": null,
      "justify_items": null,
      "left": null,
      "margin": null,
      "max_height": null,
      "max_width": null,
      "min_height": null,
      "min_width": null,
      "object_fit": null,
      "object_position": null,
      "order": null,
      "overflow": null,
      "overflow_x": null,
      "overflow_y": null,
      "padding": null,
      "right": null,
      "top": null,
      "visibility": null,
      "width": null
     }
    },
    "1d2812446add4a168bd3e4e025002989": {
     "model_module": "@jupyter-widgets/controls",
     "model_module_version": "1.5.0",
     "model_name": "HTMLModel",
     "state": {
      "_dom_classes": [],
      "_model_module": "@jupyter-widgets/controls",
      "_model_module_version": "1.5.0",
      "_model_name": "HTMLModel",
      "_view_count": null,
      "_view_module": "@jupyter-widgets/controls",
      "_view_module_version": "1.5.0",
      "_view_name": "HTMLView",
      "description": "",
      "description_tooltip": null,
      "layout": "IPY_MODEL_f32c7e0d60ce441aa80282ef57607118",
      "placeholder": "​",
      "style": "IPY_MODEL_31eebc001ae1472c949054960d97e62c",
      "value": "Downloading: 100%"
     }
    },
    "31423c40a89949dd9793604ae9aa9bed": {
     "model_module": "@jupyter-widgets/base",
     "model_module_version": "1.2.0",
     "model_name": "LayoutModel",
     "state": {
      "_model_module": "@jupyter-widgets/base",
      "_model_module_version": "1.2.0",
      "_model_name": "LayoutModel",
      "_view_count": null,
      "_view_module": "@jupyter-widgets/base",
      "_view_module_version": "1.2.0",
      "_view_name": "LayoutView",
      "align_content": null,
      "align_items": null,
      "align_self": null,
      "border": null,
      "bottom": null,
      "display": null,
      "flex": null,
      "flex_flow": null,
      "grid_area": null,
      "grid_auto_columns": null,
      "grid_auto_flow": null,
      "grid_auto_rows": null,
      "grid_column": null,
      "grid_gap": null,
      "grid_row": null,
      "grid_template_areas": null,
      "grid_template_columns": null,
      "grid_template_rows": null,
      "height": null,
      "justify_content": null,
      "justify_items": null,
      "left": null,
      "margin": null,
      "max_height": null,
      "max_width": null,
      "min_height": null,
      "min_width": null,
      "object_fit": null,
      "object_position": null,
      "order": null,
      "overflow": null,
      "overflow_x": null,
      "overflow_y": null,
      "padding": null,
      "right": null,
      "top": null,
      "visibility": null,
      "width": null
     }
    },
    "31eebc001ae1472c949054960d97e62c": {
     "model_module": "@jupyter-widgets/controls",
     "model_module_version": "1.5.0",
     "model_name": "DescriptionStyleModel",
     "state": {
      "_model_module": "@jupyter-widgets/controls",
      "_model_module_version": "1.5.0",
      "_model_name": "DescriptionStyleModel",
      "_view_count": null,
      "_view_module": "@jupyter-widgets/base",
      "_view_module_version": "1.2.0",
      "_view_name": "StyleView",
      "description_width": ""
     }
    },
    "32dbec3f30094037a62041a222aa85be": {
     "model_module": "@jupyter-widgets/controls",
     "model_module_version": "1.5.0",
     "model_name": "HTMLModel",
     "state": {
      "_dom_classes": [],
      "_model_module": "@jupyter-widgets/controls",
      "_model_module_version": "1.5.0",
      "_model_name": "HTMLModel",
      "_view_count": null,
      "_view_module": "@jupyter-widgets/controls",
      "_view_module_version": "1.5.0",
      "_view_name": "HTMLView",
      "description": "",
      "description_tooltip": null,
      "layout": "IPY_MODEL_82e19dac1acf4cbda8515ac333d4fb08",
      "placeholder": "​",
      "style": "IPY_MODEL_e38357e3213940778ee3779781ecac50",
      "value": " 1.37G/1.37G [00:31&lt;00:00, 44.6MB/s]"
     }
    },
    "33c30b28fbe34f71968b994a33ce7833": {
     "model_module": "@jupyter-widgets/base",
     "model_module_version": "1.2.0",
     "model_name": "LayoutModel",
     "state": {
      "_model_module": "@jupyter-widgets/base",
      "_model_module_version": "1.2.0",
      "_model_name": "LayoutModel",
      "_view_count": null,
      "_view_module": "@jupyter-widgets/base",
      "_view_module_version": "1.2.0",
      "_view_name": "LayoutView",
      "align_content": null,
      "align_items": null,
      "align_self": null,
      "border": null,
      "bottom": null,
      "display": null,
      "flex": null,
      "flex_flow": null,
      "grid_area": null,
      "grid_auto_columns": null,
      "grid_auto_flow": null,
      "grid_auto_rows": null,
      "grid_column": null,
      "grid_gap": null,
      "grid_row": null,
      "grid_template_areas": null,
      "grid_template_columns": null,
      "grid_template_rows": null,
      "height": null,
      "justify_content": null,
      "justify_items": null,
      "left": null,
      "margin": null,
      "max_height": null,
      "max_width": null,
      "min_height": null,
      "min_width": null,
      "object_fit": null,
      "object_position": null,
      "order": null,
      "overflow": null,
      "overflow_x": null,
      "overflow_y": null,
      "padding": null,
      "right": null,
      "top": null,
      "visibility": null,
      "width": null
     }
    },
    "370d9968450e449cb2d74051af088288": {
     "model_module": "@jupyter-widgets/base",
     "model_module_version": "1.2.0",
     "model_name": "LayoutModel",
     "state": {
      "_model_module": "@jupyter-widgets/base",
      "_model_module_version": "1.2.0",
      "_model_name": "LayoutModel",
      "_view_count": null,
      "_view_module": "@jupyter-widgets/base",
      "_view_module_version": "1.2.0",
      "_view_name": "LayoutView",
      "align_content": null,
      "align_items": null,
      "align_self": null,
      "border": null,
      "bottom": null,
      "display": null,
      "flex": null,
      "flex_flow": null,
      "grid_area": null,
      "grid_auto_columns": null,
      "grid_auto_flow": null,
      "grid_auto_rows": null,
      "grid_column": null,
      "grid_gap": null,
      "grid_row": null,
      "grid_template_areas": null,
      "grid_template_columns": null,
      "grid_template_rows": null,
      "height": null,
      "justify_content": null,
      "justify_items": null,
      "left": null,
      "margin": null,
      "max_height": null,
      "max_width": null,
      "min_height": null,
      "min_width": null,
      "object_fit": null,
      "object_position": null,
      "order": null,
      "overflow": null,
      "overflow_x": null,
      "overflow_y": null,
      "padding": null,
      "right": null,
      "top": null,
      "visibility": null,
      "width": null
     }
    },
    "3db41230c5614729b1282b4119904c21": {
     "model_module": "@jupyter-widgets/controls",
     "model_module_version": "1.5.0",
     "model_name": "HTMLModel",
     "state": {
      "_dom_classes": [],
      "_model_module": "@jupyter-widgets/controls",
      "_model_module_version": "1.5.0",
      "_model_name": "HTMLModel",
      "_view_count": null,
      "_view_module": "@jupyter-widgets/controls",
      "_view_module_version": "1.5.0",
      "_view_name": "HTMLView",
      "description": "",
      "description_tooltip": null,
      "layout": "IPY_MODEL_bac7b1ab6e8c48a0896fc0ea878fa823",
      "placeholder": "​",
      "style": "IPY_MODEL_cdfea030879e45a78e143403a2ab6a22",
      "value": " 455k/455k [00:00&lt;00:00, 799kB/s]"
     }
    },
    "42282debfad54650bb8d198bc0648b8a": {
     "model_module": "@jupyter-widgets/controls",
     "model_module_version": "1.5.0",
     "model_name": "HTMLModel",
     "state": {
      "_dom_classes": [],
      "_model_module": "@jupyter-widgets/controls",
      "_model_module_version": "1.5.0",
      "_model_name": "HTMLModel",
      "_view_count": null,
      "_view_module": "@jupyter-widgets/controls",
      "_view_module_version": "1.5.0",
      "_view_name": "HTMLView",
      "description": "",
      "description_tooltip": null,
      "layout": "IPY_MODEL_ba4b8cefc5e94c74ad7fc37ad6b67bfa",
      "placeholder": "​",
      "style": "IPY_MODEL_ec483a899d604b35a3f0091033f0856c",
      "value": " 28.0/28.0 [00:00&lt;00:00, 768B/s]"
     }
    },
    "429868a476e94842b7ca402a6018524b": {
     "model_module": "@jupyter-widgets/base",
     "model_module_version": "1.2.0",
     "model_name": "LayoutModel",
     "state": {
      "_model_module": "@jupyter-widgets/base",
      "_model_module_version": "1.2.0",
      "_model_name": "LayoutModel",
      "_view_count": null,
      "_view_module": "@jupyter-widgets/base",
      "_view_module_version": "1.2.0",
      "_view_name": "LayoutView",
      "align_content": null,
      "align_items": null,
      "align_self": null,
      "border": null,
      "bottom": null,
      "display": null,
      "flex": null,
      "flex_flow": null,
      "grid_area": null,
      "grid_auto_columns": null,
      "grid_auto_flow": null,
      "grid_auto_rows": null,
      "grid_column": null,
      "grid_gap": null,
      "grid_row": null,
      "grid_template_areas": null,
      "grid_template_columns": null,
      "grid_template_rows": null,
      "height": null,
      "justify_content": null,
      "justify_items": null,
      "left": null,
      "margin": null,
      "max_height": null,
      "max_width": null,
      "min_height": null,
      "min_width": null,
      "object_fit": null,
      "object_position": null,
      "order": null,
      "overflow": null,
      "overflow_x": null,
      "overflow_y": null,
      "padding": null,
      "right": null,
      "top": null,
      "visibility": null,
      "width": null
     }
    },
    "4aaa529270b64546afa3b7360830dd96": {
     "model_module": "@jupyter-widgets/controls",
     "model_module_version": "1.5.0",
     "model_name": "ProgressStyleModel",
     "state": {
      "_model_module": "@jupyter-widgets/controls",
      "_model_module_version": "1.5.0",
      "_model_name": "ProgressStyleModel",
      "_view_count": null,
      "_view_module": "@jupyter-widgets/base",
      "_view_module_version": "1.2.0",
      "_view_name": "StyleView",
      "bar_color": null,
      "description_width": ""
     }
    },
    "5265f4836b73408a968d531904f40d4c": {
     "model_module": "@jupyter-widgets/base",
     "model_module_version": "1.2.0",
     "model_name": "LayoutModel",
     "state": {
      "_model_module": "@jupyter-widgets/base",
      "_model_module_version": "1.2.0",
      "_model_name": "LayoutModel",
      "_view_count": null,
      "_view_module": "@jupyter-widgets/base",
      "_view_module_version": "1.2.0",
      "_view_name": "LayoutView",
      "align_content": null,
      "align_items": null,
      "align_self": null,
      "border": null,
      "bottom": null,
      "display": null,
      "flex": null,
      "flex_flow": null,
      "grid_area": null,
      "grid_auto_columns": null,
      "grid_auto_flow": null,
      "grid_auto_rows": null,
      "grid_column": null,
      "grid_gap": null,
      "grid_row": null,
      "grid_template_areas": null,
      "grid_template_columns": null,
      "grid_template_rows": null,
      "height": null,
      "justify_content": null,
      "justify_items": null,
      "left": null,
      "margin": null,
      "max_height": null,
      "max_width": null,
      "min_height": null,
      "min_width": null,
      "object_fit": null,
      "object_position": null,
      "order": null,
      "overflow": null,
      "overflow_x": null,
      "overflow_y": null,
      "padding": null,
      "right": null,
      "top": null,
      "visibility": null,
      "width": null
     }
    },
    "5ae4fbd850e8477194a2d455a0dc8106": {
     "model_module": "@jupyter-widgets/controls",
     "model_module_version": "1.5.0",
     "model_name": "HTMLModel",
     "state": {
      "_dom_classes": [],
      "_model_module": "@jupyter-widgets/controls",
      "_model_module_version": "1.5.0",
      "_model_name": "HTMLModel",
      "_view_count": null,
      "_view_module": "@jupyter-widgets/controls",
      "_view_module_version": "1.5.0",
      "_view_name": "HTMLView",
      "description": "",
      "description_tooltip": null,
      "layout": "IPY_MODEL_0f999771395e4b44bc32afe6e8fe6b4d",
      "placeholder": "​",
      "style": "IPY_MODEL_b3050e0599194c52acc1cb997204666b",
      "value": " 226k/226k [00:00&lt;00:00, 770kB/s]"
     }
    },
    "6233b9387a3348ef88877c5143a69f28": {
     "model_module": "@jupyter-widgets/controls",
     "model_module_version": "1.5.0",
     "model_name": "DescriptionStyleModel",
     "state": {
      "_model_module": "@jupyter-widgets/controls",
      "_model_module_version": "1.5.0",
      "_model_name": "DescriptionStyleModel",
      "_view_count": null,
      "_view_module": "@jupyter-widgets/base",
      "_view_module_version": "1.2.0",
      "_view_name": "StyleView",
      "description_width": ""
     }
    },
    "632a48bbf4d84ed5958f481a242c04bd": {
     "model_module": "@jupyter-widgets/controls",
     "model_module_version": "1.5.0",
     "model_name": "FloatProgressModel",
     "state": {
      "_dom_classes": [],
      "_model_module": "@jupyter-widgets/controls",
      "_model_module_version": "1.5.0",
      "_model_name": "FloatProgressModel",
      "_view_count": null,
      "_view_module": "@jupyter-widgets/controls",
      "_view_module_version": "1.5.0",
      "_view_name": "ProgressView",
      "bar_style": "success",
      "description": "",
      "description_tooltip": null,
      "layout": "IPY_MODEL_ce5eb31df3ca44649bbcc988d982abd8",
      "max": 466062,
      "min": 0,
      "orientation": "horizontal",
      "style": "IPY_MODEL_695687bf54b349d09599d439cba437a1",
      "value": 466062
     }
    },
    "6848580cd74243c880c44ebf3c56940b": {
     "model_module": "@jupyter-widgets/controls",
     "model_module_version": "1.5.0",
     "model_name": "HTMLModel",
     "state": {
      "_dom_classes": [],
      "_model_module": "@jupyter-widgets/controls",
      "_model_module_version": "1.5.0",
      "_model_name": "HTMLModel",
      "_view_count": null,
      "_view_module": "@jupyter-widgets/controls",
      "_view_module_version": "1.5.0",
      "_view_name": "HTMLView",
      "description": "",
      "description_tooltip": null,
      "layout": "IPY_MODEL_0506b5d9b4c243cd985b430105db3f1d",
      "placeholder": "​",
      "style": "IPY_MODEL_6233b9387a3348ef88877c5143a69f28",
      "value": "Downloading: 100%"
     }
    },
    "695687bf54b349d09599d439cba437a1": {
     "model_module": "@jupyter-widgets/controls",
     "model_module_version": "1.5.0",
     "model_name": "ProgressStyleModel",
     "state": {
      "_model_module": "@jupyter-widgets/controls",
      "_model_module_version": "1.5.0",
      "_model_name": "ProgressStyleModel",
      "_view_count": null,
      "_view_module": "@jupyter-widgets/base",
      "_view_module_version": "1.2.0",
      "_view_name": "StyleView",
      "bar_color": null,
      "description_width": ""
     }
    },
    "8172c4d0ff8343a086ffe13266d1f898": {
     "model_module": "@jupyter-widgets/controls",
     "model_module_version": "1.5.0",
     "model_name": "HBoxModel",
     "state": {
      "_dom_classes": [],
      "_model_module": "@jupyter-widgets/controls",
      "_model_module_version": "1.5.0",
      "_model_name": "HBoxModel",
      "_view_count": null,
      "_view_module": "@jupyter-widgets/controls",
      "_view_module_version": "1.5.0",
      "_view_name": "HBoxView",
      "box_style": "",
      "children": [
       "IPY_MODEL_1d2812446add4a168bd3e4e025002989",
       "IPY_MODEL_632a48bbf4d84ed5958f481a242c04bd",
       "IPY_MODEL_3db41230c5614729b1282b4119904c21"
      ],
      "layout": "IPY_MODEL_d045482c09654b519a5d6b201575ca0c"
     }
    },
    "82e19dac1acf4cbda8515ac333d4fb08": {
     "model_module": "@jupyter-widgets/base",
     "model_module_version": "1.2.0",
     "model_name": "LayoutModel",
     "state": {
      "_model_module": "@jupyter-widgets/base",
      "_model_module_version": "1.2.0",
      "_model_name": "LayoutModel",
      "_view_count": null,
      "_view_module": "@jupyter-widgets/base",
      "_view_module_version": "1.2.0",
      "_view_name": "LayoutView",
      "align_content": null,
      "align_items": null,
      "align_self": null,
      "border": null,
      "bottom": null,
      "display": null,
      "flex": null,
      "flex_flow": null,
      "grid_area": null,
      "grid_auto_columns": null,
      "grid_auto_flow": null,
      "grid_auto_rows": null,
      "grid_column": null,
      "grid_gap": null,
      "grid_row": null,
      "grid_template_areas": null,
      "grid_template_columns": null,
      "grid_template_rows": null,
      "height": null,
      "justify_content": null,
      "justify_items": null,
      "left": null,
      "margin": null,
      "max_height": null,
      "max_width": null,
      "min_height": null,
      "min_width": null,
      "object_fit": null,
      "object_position": null,
      "order": null,
      "overflow": null,
      "overflow_x": null,
      "overflow_y": null,
      "padding": null,
      "right": null,
      "top": null,
      "visibility": null,
      "width": null
     }
    },
    "832a1de969434d7b982a0ec150e5acb1": {
     "model_module": "@jupyter-widgets/controls",
     "model_module_version": "1.5.0",
     "model_name": "HBoxModel",
     "state": {
      "_dom_classes": [],
      "_model_module": "@jupyter-widgets/controls",
      "_model_module_version": "1.5.0",
      "_model_name": "HBoxModel",
      "_view_count": null,
      "_view_module": "@jupyter-widgets/controls",
      "_view_module_version": "1.5.0",
      "_view_name": "HBoxView",
      "box_style": "",
      "children": [
       "IPY_MODEL_c31c96cd384848e3a2fe050a860c5b47",
       "IPY_MODEL_00c25f5ab50a4091986454097a0c62bf",
       "IPY_MODEL_32dbec3f30094037a62041a222aa85be"
      ],
      "layout": "IPY_MODEL_17e973999da34c7a959d5e6dce0fec90"
     }
    },
    "84c3dc630b644e78821f2cf3b3bb57c2": {
     "model_module": "@jupyter-widgets/controls",
     "model_module_version": "1.5.0",
     "model_name": "HTMLModel",
     "state": {
      "_dom_classes": [],
      "_model_module": "@jupyter-widgets/controls",
      "_model_module_version": "1.5.0",
      "_model_name": "HTMLModel",
      "_view_count": null,
      "_view_module": "@jupyter-widgets/controls",
      "_view_module_version": "1.5.0",
      "_view_name": "HTMLView",
      "description": "",
      "description_tooltip": null,
      "layout": "IPY_MODEL_31423c40a89949dd9793604ae9aa9bed",
      "placeholder": "​",
      "style": "IPY_MODEL_ca00e51b2f924262bfcdef788d6d3ca0",
      "value": "Downloading: 100%"
     }
    },
    "8618af4870f749198a21680fe2ea430d": {
     "model_module": "@jupyter-widgets/controls",
     "model_module_version": "1.5.0",
     "model_name": "HTMLModel",
     "state": {
      "_dom_classes": [],
      "_model_module": "@jupyter-widgets/controls",
      "_model_module_version": "1.5.0",
      "_model_name": "HTMLModel",
      "_view_count": null,
      "_view_module": "@jupyter-widgets/controls",
      "_view_module_version": "1.5.0",
      "_view_name": "HTMLView",
      "description": "",
      "description_tooltip": null,
      "layout": "IPY_MODEL_5265f4836b73408a968d531904f40d4c",
      "placeholder": "​",
      "style": "IPY_MODEL_982b073322ff4b9f8fdde2788b3d2d13",
      "value": " 571/571 [00:00&lt;00:00, 14.3kB/s]"
     }
    },
    "87132f0b190a4468a8ceb6dd86f532ae": {
     "model_module": "@jupyter-widgets/controls",
     "model_module_version": "1.5.0",
     "model_name": "FloatProgressModel",
     "state": {
      "_dom_classes": [],
      "_model_module": "@jupyter-widgets/controls",
      "_model_module_version": "1.5.0",
      "_model_name": "FloatProgressModel",
      "_view_count": null,
      "_view_module": "@jupyter-widgets/controls",
      "_view_module_version": "1.5.0",
      "_view_name": "ProgressView",
      "bar_style": "success",
      "description": "",
      "description_tooltip": null,
      "layout": "IPY_MODEL_e2953cfbb85a47c9b420b31db83c73d2",
      "max": 28,
      "min": 0,
      "orientation": "horizontal",
      "style": "IPY_MODEL_eba7d8c65b354624b073266ebf7495bf",
      "value": 28
     }
    },
    "89fd7f78b2bd4511a16621c243eab791": {
     "model_module": "@jupyter-widgets/controls",
     "model_module_version": "1.5.0",
     "model_name": "DescriptionStyleModel",
     "state": {
      "_model_module": "@jupyter-widgets/controls",
      "_model_module_version": "1.5.0",
      "_model_name": "DescriptionStyleModel",
      "_view_count": null,
      "_view_module": "@jupyter-widgets/base",
      "_view_module_version": "1.2.0",
      "_view_name": "StyleView",
      "description_width": ""
     }
    },
    "982b073322ff4b9f8fdde2788b3d2d13": {
     "model_module": "@jupyter-widgets/controls",
     "model_module_version": "1.5.0",
     "model_name": "DescriptionStyleModel",
     "state": {
      "_model_module": "@jupyter-widgets/controls",
      "_model_module_version": "1.5.0",
      "_model_name": "DescriptionStyleModel",
      "_view_count": null,
      "_view_module": "@jupyter-widgets/base",
      "_view_module_version": "1.2.0",
      "_view_name": "StyleView",
      "description_width": ""
     }
    },
    "9b1e87136c0c45699a1aa3b49b3b9ee6": {
     "model_module": "@jupyter-widgets/base",
     "model_module_version": "1.2.0",
     "model_name": "LayoutModel",
     "state": {
      "_model_module": "@jupyter-widgets/base",
      "_model_module_version": "1.2.0",
      "_model_name": "LayoutModel",
      "_view_count": null,
      "_view_module": "@jupyter-widgets/base",
      "_view_module_version": "1.2.0",
      "_view_name": "LayoutView",
      "align_content": null,
      "align_items": null,
      "align_self": null,
      "border": null,
      "bottom": null,
      "display": null,
      "flex": null,
      "flex_flow": null,
      "grid_area": null,
      "grid_auto_columns": null,
      "grid_auto_flow": null,
      "grid_auto_rows": null,
      "grid_column": null,
      "grid_gap": null,
      "grid_row": null,
      "grid_template_areas": null,
      "grid_template_columns": null,
      "grid_template_rows": null,
      "height": null,
      "justify_content": null,
      "justify_items": null,
      "left": null,
      "margin": null,
      "max_height": null,
      "max_width": null,
      "min_height": null,
      "min_width": null,
      "object_fit": null,
      "object_position": null,
      "order": null,
      "overflow": null,
      "overflow_x": null,
      "overflow_y": null,
      "padding": null,
      "right": null,
      "top": null,
      "visibility": null,
      "width": null
     }
    },
    "a3b1bf0e541943fb90152e94a0be37c7": {
     "model_module": "@jupyter-widgets/controls",
     "model_module_version": "1.5.0",
     "model_name": "HBoxModel",
     "state": {
      "_dom_classes": [],
      "_model_module": "@jupyter-widgets/controls",
      "_model_module_version": "1.5.0",
      "_model_name": "HBoxModel",
      "_view_count": null,
      "_view_module": "@jupyter-widgets/controls",
      "_view_module_version": "1.5.0",
      "_view_name": "HBoxView",
      "box_style": "",
      "children": [
       "IPY_MODEL_84c3dc630b644e78821f2cf3b3bb57c2",
       "IPY_MODEL_87132f0b190a4468a8ceb6dd86f532ae",
       "IPY_MODEL_42282debfad54650bb8d198bc0648b8a"
      ],
      "layout": "IPY_MODEL_101f7ce26a5f43a9a00194aaf2e84624"
     }
    },
    "ad1f7348ee7442d7858d56499b9a6e80": {
     "model_module": "@jupyter-widgets/base",
     "model_module_version": "1.2.0",
     "model_name": "LayoutModel",
     "state": {
      "_model_module": "@jupyter-widgets/base",
      "_model_module_version": "1.2.0",
      "_model_name": "LayoutModel",
      "_view_count": null,
      "_view_module": "@jupyter-widgets/base",
      "_view_module_version": "1.2.0",
      "_view_name": "LayoutView",
      "align_content": null,
      "align_items": null,
      "align_self": null,
      "border": null,
      "bottom": null,
      "display": null,
      "flex": null,
      "flex_flow": null,
      "grid_area": null,
      "grid_auto_columns": null,
      "grid_auto_flow": null,
      "grid_auto_rows": null,
      "grid_column": null,
      "grid_gap": null,
      "grid_row": null,
      "grid_template_areas": null,
      "grid_template_columns": null,
      "grid_template_rows": null,
      "height": null,
      "justify_content": null,
      "justify_items": null,
      "left": null,
      "margin": null,
      "max_height": null,
      "max_width": null,
      "min_height": null,
      "min_width": null,
      "object_fit": null,
      "object_position": null,
      "order": null,
      "overflow": null,
      "overflow_x": null,
      "overflow_y": null,
      "padding": null,
      "right": null,
      "top": null,
      "visibility": null,
      "width": null
     }
    },
    "b3050e0599194c52acc1cb997204666b": {
     "model_module": "@jupyter-widgets/controls",
     "model_module_version": "1.5.0",
     "model_name": "DescriptionStyleModel",
     "state": {
      "_model_module": "@jupyter-widgets/controls",
      "_model_module_version": "1.5.0",
      "_model_name": "DescriptionStyleModel",
      "_view_count": null,
      "_view_module": "@jupyter-widgets/base",
      "_view_module_version": "1.2.0",
      "_view_name": "StyleView",
      "description_width": ""
     }
    },
    "b3206ae5163c4557b470a21bd6ae67f3": {
     "model_module": "@jupyter-widgets/controls",
     "model_module_version": "1.5.0",
     "model_name": "HTMLModel",
     "state": {
      "_dom_classes": [],
      "_model_module": "@jupyter-widgets/controls",
      "_model_module_version": "1.5.0",
      "_model_name": "HTMLModel",
      "_view_count": null,
      "_view_module": "@jupyter-widgets/controls",
      "_view_module_version": "1.5.0",
      "_view_name": "HTMLView",
      "description": "",
      "description_tooltip": null,
      "layout": "IPY_MODEL_429868a476e94842b7ca402a6018524b",
      "placeholder": "​",
      "style": "IPY_MODEL_89fd7f78b2bd4511a16621c243eab791",
      "value": "Downloading: 100%"
     }
    },
    "ba2712c4091947aaad043f5d4f95c088": {
     "model_module": "@jupyter-widgets/controls",
     "model_module_version": "1.5.0",
     "model_name": "HBoxModel",
     "state": {
      "_dom_classes": [],
      "_model_module": "@jupyter-widgets/controls",
      "_model_module_version": "1.5.0",
      "_model_name": "HBoxModel",
      "_view_count": null,
      "_view_module": "@jupyter-widgets/controls",
      "_view_module_version": "1.5.0",
      "_view_name": "HBoxView",
      "box_style": "",
      "children": [
       "IPY_MODEL_6848580cd74243c880c44ebf3c56940b",
       "IPY_MODEL_06fb627501c64458a8299061abb6c121",
       "IPY_MODEL_8618af4870f749198a21680fe2ea430d"
      ],
      "layout": "IPY_MODEL_9b1e87136c0c45699a1aa3b49b3b9ee6"
     }
    },
    "ba4b8cefc5e94c74ad7fc37ad6b67bfa": {
     "model_module": "@jupyter-widgets/base",
     "model_module_version": "1.2.0",
     "model_name": "LayoutModel",
     "state": {
      "_model_module": "@jupyter-widgets/base",
      "_model_module_version": "1.2.0",
      "_model_name": "LayoutModel",
      "_view_count": null,
      "_view_module": "@jupyter-widgets/base",
      "_view_module_version": "1.2.0",
      "_view_name": "LayoutView",
      "align_content": null,
      "align_items": null,
      "align_self": null,
      "border": null,
      "bottom": null,
      "display": null,
      "flex": null,
      "flex_flow": null,
      "grid_area": null,
      "grid_auto_columns": null,
      "grid_auto_flow": null,
      "grid_auto_rows": null,
      "grid_column": null,
      "grid_gap": null,
      "grid_row": null,
      "grid_template_areas": null,
      "grid_template_columns": null,
      "grid_template_rows": null,
      "height": null,
      "justify_content": null,
      "justify_items": null,
      "left": null,
      "margin": null,
      "max_height": null,
      "max_width": null,
      "min_height": null,
      "min_width": null,
      "object_fit": null,
      "object_position": null,
      "order": null,
      "overflow": null,
      "overflow_x": null,
      "overflow_y": null,
      "padding": null,
      "right": null,
      "top": null,
      "visibility": null,
      "width": null
     }
    },
    "bac7b1ab6e8c48a0896fc0ea878fa823": {
     "model_module": "@jupyter-widgets/base",
     "model_module_version": "1.2.0",
     "model_name": "LayoutModel",
     "state": {
      "_model_module": "@jupyter-widgets/base",
      "_model_module_version": "1.2.0",
      "_model_name": "LayoutModel",
      "_view_count": null,
      "_view_module": "@jupyter-widgets/base",
      "_view_module_version": "1.2.0",
      "_view_name": "LayoutView",
      "align_content": null,
      "align_items": null,
      "align_self": null,
      "border": null,
      "bottom": null,
      "display": null,
      "flex": null,
      "flex_flow": null,
      "grid_area": null,
      "grid_auto_columns": null,
      "grid_auto_flow": null,
      "grid_auto_rows": null,
      "grid_column": null,
      "grid_gap": null,
      "grid_row": null,
      "grid_template_areas": null,
      "grid_template_columns": null,
      "grid_template_rows": null,
      "height": null,
      "justify_content": null,
      "justify_items": null,
      "left": null,
      "margin": null,
      "max_height": null,
      "max_width": null,
      "min_height": null,
      "min_width": null,
      "object_fit": null,
      "object_position": null,
      "order": null,
      "overflow": null,
      "overflow_x": null,
      "overflow_y": null,
      "padding": null,
      "right": null,
      "top": null,
      "visibility": null,
      "width": null
     }
    },
    "bbd4330ea4704d7090f8364e5b1a3112": {
     "model_module": "@jupyter-widgets/base",
     "model_module_version": "1.2.0",
     "model_name": "LayoutModel",
     "state": {
      "_model_module": "@jupyter-widgets/base",
      "_model_module_version": "1.2.0",
      "_model_name": "LayoutModel",
      "_view_count": null,
      "_view_module": "@jupyter-widgets/base",
      "_view_module_version": "1.2.0",
      "_view_name": "LayoutView",
      "align_content": null,
      "align_items": null,
      "align_self": null,
      "border": null,
      "bottom": null,
      "display": null,
      "flex": null,
      "flex_flow": null,
      "grid_area": null,
      "grid_auto_columns": null,
      "grid_auto_flow": null,
      "grid_auto_rows": null,
      "grid_column": null,
      "grid_gap": null,
      "grid_row": null,
      "grid_template_areas": null,
      "grid_template_columns": null,
      "grid_template_rows": null,
      "height": null,
      "justify_content": null,
      "justify_items": null,
      "left": null,
      "margin": null,
      "max_height": null,
      "max_width": null,
      "min_height": null,
      "min_width": null,
      "object_fit": null,
      "object_position": null,
      "order": null,
      "overflow": null,
      "overflow_x": null,
      "overflow_y": null,
      "padding": null,
      "right": null,
      "top": null,
      "visibility": null,
      "width": null
     }
    },
    "bf58fe96de3b4c4badf8e115efe2424e": {
     "model_module": "@jupyter-widgets/controls",
     "model_module_version": "1.5.0",
     "model_name": "DescriptionStyleModel",
     "state": {
      "_model_module": "@jupyter-widgets/controls",
      "_model_module_version": "1.5.0",
      "_model_name": "DescriptionStyleModel",
      "_view_count": null,
      "_view_module": "@jupyter-widgets/base",
      "_view_module_version": "1.2.0",
      "_view_name": "StyleView",
      "description_width": ""
     }
    },
    "c31c96cd384848e3a2fe050a860c5b47": {
     "model_module": "@jupyter-widgets/controls",
     "model_module_version": "1.5.0",
     "model_name": "HTMLModel",
     "state": {
      "_dom_classes": [],
      "_model_module": "@jupyter-widgets/controls",
      "_model_module_version": "1.5.0",
      "_model_name": "HTMLModel",
      "_view_count": null,
      "_view_module": "@jupyter-widgets/controls",
      "_view_module_version": "1.5.0",
      "_view_name": "HTMLView",
      "description": "",
      "description_tooltip": null,
      "layout": "IPY_MODEL_33c30b28fbe34f71968b994a33ce7833",
      "placeholder": "​",
      "style": "IPY_MODEL_bf58fe96de3b4c4badf8e115efe2424e",
      "value": "Downloading: 100%"
     }
    },
    "ca00e51b2f924262bfcdef788d6d3ca0": {
     "model_module": "@jupyter-widgets/controls",
     "model_module_version": "1.5.0",
     "model_name": "DescriptionStyleModel",
     "state": {
      "_model_module": "@jupyter-widgets/controls",
      "_model_module_version": "1.5.0",
      "_model_name": "DescriptionStyleModel",
      "_view_count": null,
      "_view_module": "@jupyter-widgets/base",
      "_view_module_version": "1.2.0",
      "_view_name": "StyleView",
      "description_width": ""
     }
    },
    "cdfea030879e45a78e143403a2ab6a22": {
     "model_module": "@jupyter-widgets/controls",
     "model_module_version": "1.5.0",
     "model_name": "DescriptionStyleModel",
     "state": {
      "_model_module": "@jupyter-widgets/controls",
      "_model_module_version": "1.5.0",
      "_model_name": "DescriptionStyleModel",
      "_view_count": null,
      "_view_module": "@jupyter-widgets/base",
      "_view_module_version": "1.2.0",
      "_view_name": "StyleView",
      "description_width": ""
     }
    },
    "ce5eb31df3ca44649bbcc988d982abd8": {
     "model_module": "@jupyter-widgets/base",
     "model_module_version": "1.2.0",
     "model_name": "LayoutModel",
     "state": {
      "_model_module": "@jupyter-widgets/base",
      "_model_module_version": "1.2.0",
      "_model_name": "LayoutModel",
      "_view_count": null,
      "_view_module": "@jupyter-widgets/base",
      "_view_module_version": "1.2.0",
      "_view_name": "LayoutView",
      "align_content": null,
      "align_items": null,
      "align_self": null,
      "border": null,
      "bottom": null,
      "display": null,
      "flex": null,
      "flex_flow": null,
      "grid_area": null,
      "grid_auto_columns": null,
      "grid_auto_flow": null,
      "grid_auto_rows": null,
      "grid_column": null,
      "grid_gap": null,
      "grid_row": null,
      "grid_template_areas": null,
      "grid_template_columns": null,
      "grid_template_rows": null,
      "height": null,
      "justify_content": null,
      "justify_items": null,
      "left": null,
      "margin": null,
      "max_height": null,
      "max_width": null,
      "min_height": null,
      "min_width": null,
      "object_fit": null,
      "object_position": null,
      "order": null,
      "overflow": null,
      "overflow_x": null,
      "overflow_y": null,
      "padding": null,
      "right": null,
      "top": null,
      "visibility": null,
      "width": null
     }
    },
    "d045482c09654b519a5d6b201575ca0c": {
     "model_module": "@jupyter-widgets/base",
     "model_module_version": "1.2.0",
     "model_name": "LayoutModel",
     "state": {
      "_model_module": "@jupyter-widgets/base",
      "_model_module_version": "1.2.0",
      "_model_name": "LayoutModel",
      "_view_count": null,
      "_view_module": "@jupyter-widgets/base",
      "_view_module_version": "1.2.0",
      "_view_name": "LayoutView",
      "align_content": null,
      "align_items": null,
      "align_self": null,
      "border": null,
      "bottom": null,
      "display": null,
      "flex": null,
      "flex_flow": null,
      "grid_area": null,
      "grid_auto_columns": null,
      "grid_auto_flow": null,
      "grid_auto_rows": null,
      "grid_column": null,
      "grid_gap": null,
      "grid_row": null,
      "grid_template_areas": null,
      "grid_template_columns": null,
      "grid_template_rows": null,
      "height": null,
      "justify_content": null,
      "justify_items": null,
      "left": null,
      "margin": null,
      "max_height": null,
      "max_width": null,
      "min_height": null,
      "min_width": null,
      "object_fit": null,
      "object_position": null,
      "order": null,
      "overflow": null,
      "overflow_x": null,
      "overflow_y": null,
      "padding": null,
      "right": null,
      "top": null,
      "visibility": null,
      "width": null
     }
    },
    "e2953cfbb85a47c9b420b31db83c73d2": {
     "model_module": "@jupyter-widgets/base",
     "model_module_version": "1.2.0",
     "model_name": "LayoutModel",
     "state": {
      "_model_module": "@jupyter-widgets/base",
      "_model_module_version": "1.2.0",
      "_model_name": "LayoutModel",
      "_view_count": null,
      "_view_module": "@jupyter-widgets/base",
      "_view_module_version": "1.2.0",
      "_view_name": "LayoutView",
      "align_content": null,
      "align_items": null,
      "align_self": null,
      "border": null,
      "bottom": null,
      "display": null,
      "flex": null,
      "flex_flow": null,
      "grid_area": null,
      "grid_auto_columns": null,
      "grid_auto_flow": null,
      "grid_auto_rows": null,
      "grid_column": null,
      "grid_gap": null,
      "grid_row": null,
      "grid_template_areas": null,
      "grid_template_columns": null,
      "grid_template_rows": null,
      "height": null,
      "justify_content": null,
      "justify_items": null,
      "left": null,
      "margin": null,
      "max_height": null,
      "max_width": null,
      "min_height": null,
      "min_width": null,
      "object_fit": null,
      "object_position": null,
      "order": null,
      "overflow": null,
      "overflow_x": null,
      "overflow_y": null,
      "padding": null,
      "right": null,
      "top": null,
      "visibility": null,
      "width": null
     }
    },
    "e38357e3213940778ee3779781ecac50": {
     "model_module": "@jupyter-widgets/controls",
     "model_module_version": "1.5.0",
     "model_name": "DescriptionStyleModel",
     "state": {
      "_model_module": "@jupyter-widgets/controls",
      "_model_module_version": "1.5.0",
      "_model_name": "DescriptionStyleModel",
      "_view_count": null,
      "_view_module": "@jupyter-widgets/base",
      "_view_module_version": "1.2.0",
      "_view_name": "StyleView",
      "description_width": ""
     }
    },
    "eba7d8c65b354624b073266ebf7495bf": {
     "model_module": "@jupyter-widgets/controls",
     "model_module_version": "1.5.0",
     "model_name": "ProgressStyleModel",
     "state": {
      "_model_module": "@jupyter-widgets/controls",
      "_model_module_version": "1.5.0",
      "_model_name": "ProgressStyleModel",
      "_view_count": null,
      "_view_module": "@jupyter-widgets/base",
      "_view_module_version": "1.2.0",
      "_view_name": "StyleView",
      "bar_color": null,
      "description_width": ""
     }
    },
    "ec483a899d604b35a3f0091033f0856c": {
     "model_module": "@jupyter-widgets/controls",
     "model_module_version": "1.5.0",
     "model_name": "DescriptionStyleModel",
     "state": {
      "_model_module": "@jupyter-widgets/controls",
      "_model_module_version": "1.5.0",
      "_model_name": "DescriptionStyleModel",
      "_view_count": null,
      "_view_module": "@jupyter-widgets/base",
      "_view_module_version": "1.2.0",
      "_view_name": "StyleView",
      "description_width": ""
     }
    },
    "eed38d9417e149f384c927f46094e175": {
     "model_module": "@jupyter-widgets/controls",
     "model_module_version": "1.5.0",
     "model_name": "ProgressStyleModel",
     "state": {
      "_model_module": "@jupyter-widgets/controls",
      "_model_module_version": "1.5.0",
      "_model_name": "ProgressStyleModel",
      "_view_count": null,
      "_view_module": "@jupyter-widgets/base",
      "_view_module_version": "1.2.0",
      "_view_name": "StyleView",
      "bar_color": null,
      "description_width": ""
     }
    },
    "f32c7e0d60ce441aa80282ef57607118": {
     "model_module": "@jupyter-widgets/base",
     "model_module_version": "1.2.0",
     "model_name": "LayoutModel",
     "state": {
      "_model_module": "@jupyter-widgets/base",
      "_model_module_version": "1.2.0",
      "_model_name": "LayoutModel",
      "_view_count": null,
      "_view_module": "@jupyter-widgets/base",
      "_view_module_version": "1.2.0",
      "_view_name": "LayoutView",
      "align_content": null,
      "align_items": null,
      "align_self": null,
      "border": null,
      "bottom": null,
      "display": null,
      "flex": null,
      "flex_flow": null,
      "grid_area": null,
      "grid_auto_columns": null,
      "grid_auto_flow": null,
      "grid_auto_rows": null,
      "grid_column": null,
      "grid_gap": null,
      "grid_row": null,
      "grid_template_areas": null,
      "grid_template_columns": null,
      "grid_template_rows": null,
      "height": null,
      "justify_content": null,
      "justify_items": null,
      "left": null,
      "margin": null,
      "max_height": null,
      "max_width": null,
      "min_height": null,
      "min_width": null,
      "object_fit": null,
      "object_position": null,
      "order": null,
      "overflow": null,
      "overflow_x": null,
      "overflow_y": null,
      "padding": null,
      "right": null,
      "top": null,
      "visibility": null,
      "width": null
     }
    }
   }
  }
 },
 "nbformat": 4,
 "nbformat_minor": 1
}
