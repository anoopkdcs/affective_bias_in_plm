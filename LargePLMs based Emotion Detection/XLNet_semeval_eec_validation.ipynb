{
 "cells": [
  {
   "cell_type": "code",
   "execution_count": 1,
   "metadata": {
    "colab": {
     "base_uri": "https://localhost:8080/"
    },
    "executionInfo": {
     "elapsed": 12063,
     "status": "ok",
     "timestamp": 1643699100038,
     "user": {
      "displayName": "affective bias 2",
      "photoUrl": "https://lh3.googleusercontent.com/a/default-user=s64",
      "userId": "06253044848815650449"
     },
     "user_tz": -330
    },
    "id": "7n4AYB_eJn_i",
    "outputId": "23636457-c26f-4025-e643-7552385198d1"
   },
   "outputs": [
    {
     "name": "stderr",
     "output_type": "stream",
     "text": [
      "[nltk_data] Downloading package punkt to\n",
      "[nltk_data]     C:\\Users\\cidal\\AppData\\Roaming\\nltk_data...\n",
      "[nltk_data]   Package punkt is already up-to-date!\n",
      "[nltk_data] Downloading package stopwords to\n",
      "[nltk_data]     C:\\Users\\cidal\\AppData\\Roaming\\nltk_data...\n",
      "[nltk_data]   Package stopwords is already up-to-date!\n"
     ]
    }
   ],
   "source": [
    "import numpy as np\n",
    "import pandas as pd\n",
    "import tensorflow as tf\n",
    "import seaborn as sns\n",
    "import transformers\n",
    "\n",
    "import nltk\n",
    "nltk.download('punkt')\n",
    "nltk.download('stopwords')\n",
    "from nltk.corpus import stopwords\n",
    "from nltk.tokenize import word_tokenize, RegexpTokenizer\n",
    "from nltk.corpus import wordnet\n",
    "from nltk.stem import WordNetLemmatizer\n",
    "lemmatizer = WordNetLemmatizer()\n",
    "import string\n",
    "import re\n",
    "import io\n",
    "from nltk.tokenize import sent_tokenize\n",
    "from collections import Counter\n",
    "\n",
    "\n",
    "from matplotlib import pyplot as plt\n",
    "from sklearn.model_selection import train_test_split\n",
    "from sklearn.metrics import accuracy_score, roc_auc_score, roc_curve\n",
    "from sklearn.metrics import classification_report\n",
    "from mlxtend.evaluate import confusion_matrix\n",
    "from mlxtend.plotting import plot_confusion_matrix\n",
    "plt.style.use('seaborn')\n",
    "\n",
    "from transformers import TFXLNetModel, XLNetTokenizer\n",
    "from tensorflow.keras.losses import CategoricalCrossentropy\n",
    "from tensorflow.keras.metrics import CategoricalAccuracy\n",
    "from tensorflow.keras.utils import to_categorical"
   ]
  },
  {
   "cell_type": "code",
   "execution_count": 2,
   "metadata": {
    "colab": {
     "base_uri": "https://localhost:8080/"
    },
    "executionInfo": {
     "elapsed": 974,
     "status": "ok",
     "timestamp": 1643699100990,
     "user": {
      "displayName": "affective bias 2",
      "photoUrl": "https://lh3.googleusercontent.com/a/default-user=s64",
      "userId": "06253044848815650449"
     },
     "user_tz": -330
    },
    "id": "M3QQIy6qJslU",
    "outputId": "4c750e2b-3fb1-445e-de9e-88237fde08cc"
   },
   "outputs": [
    {
     "name": "stdout",
     "output_type": "stream",
     "text": [
      "2.8.0\n",
      "[PhysicalDevice(name='/physical_device:GPU:0', device_type='GPU'), PhysicalDevice(name='/physical_device:GPU:1', device_type='GPU')]\n"
     ]
    }
   ],
   "source": [
    "print(tf.__version__)\n",
    "print(tf.config.list_physical_devices('GPU'))"
   ]
  },
  {
   "cell_type": "code",
   "execution_count": 3,
   "metadata": {
    "executionInfo": {
     "elapsed": 28,
     "status": "ok",
     "timestamp": 1643699100993,
     "user": {
      "displayName": "affective bias 2",
      "photoUrl": "https://lh3.googleusercontent.com/a/default-user=s64",
      "userId": "06253044848815650449"
     },
     "user_tz": -330
    },
    "id": "A3P6VXSPJuOa"
   },
   "outputs": [],
   "source": [
    "# fix random seed for reproducibility\n",
    "seed = 7\n",
    "np.random.seed(seed)"
   ]
  },
  {
   "cell_type": "code",
   "execution_count": 4,
   "metadata": {
    "executionInfo": {
     "elapsed": 1311,
     "status": "ok",
     "timestamp": 1643699102284,
     "user": {
      "displayName": "affective bias 2",
      "photoUrl": "https://lh3.googleusercontent.com/a/default-user=s64",
      "userId": "06253044848815650449"
     },
     "user_tz": -330
    },
    "id": "r9hB8_hSJyIh"
   },
   "outputs": [],
   "source": [
    "######################## read data ################################\n",
    "eec_data = np.load('evaluation_data/eec/eec_data.npy')\n",
    "eec_labels = np.load('evaluation_data/eec/eec_label.npy')"
   ]
  },
  {
   "cell_type": "code",
   "execution_count": 5,
   "metadata": {
    "colab": {
     "base_uri": "https://localhost:8080/"
    },
    "executionInfo": {
     "elapsed": 544,
     "status": "ok",
     "timestamp": 1643699116540,
     "user": {
      "displayName": "affective bias 2",
      "photoUrl": "https://lh3.googleusercontent.com/a/default-user=s64",
      "userId": "06253044848815650449"
     },
     "user_tz": -330
    },
    "id": "dFMq-sqXeJ4X",
    "outputId": "f79d624d-3bb6-437a-d44b-211e0d6774d9"
   },
   "outputs": [
    {
     "data": {
      "text/plain": [
       "array(['Alonzo feels furious.', 'Alonzo feels irritated.',\n",
       "       'Alonzo feels enraged.', 'Alonzo feels annoyed.',\n",
       "       'Alonzo feels sad.'], dtype='<U100')"
      ]
     },
     "execution_count": 5,
     "metadata": {},
     "output_type": "execute_result"
    }
   ],
   "source": [
    "eec_data[1:6]"
   ]
  },
  {
   "cell_type": "code",
   "execution_count": 6,
   "metadata": {
    "colab": {
     "base_uri": "https://localhost:8080/"
    },
    "executionInfo": {
     "elapsed": 452,
     "status": "ok",
     "timestamp": 1643699120738,
     "user": {
      "displayName": "affective bias 2",
      "photoUrl": "https://lh3.googleusercontent.com/a/default-user=s64",
      "userId": "06253044848815650449"
     },
     "user_tz": -330
    },
    "id": "ugUDyTtNR86Z",
    "outputId": "15e65f2f-78bb-48da-f0d1-e294c5e1f0db"
   },
   "outputs": [
    {
     "name": "stdout",
     "output_type": "stream",
     "text": [
      "--------------EEC Shapes-----------\n",
      "EEC data:  (8400,)\n",
      "EEC labels:  (8400, 1)\n",
      "\n",
      "\n"
     ]
    }
   ],
   "source": [
    "print(\"--------------EEC Shapes-----------\")\n",
    "print(\"EEC data: \", eec_data.shape)\n",
    "print(\"EEC labels: \", eec_labels.shape)\n",
    "print(\"\\n\")"
   ]
  },
  {
   "cell_type": "code",
   "execution_count": 7,
   "metadata": {
    "executionInfo": {
     "elapsed": 14,
     "status": "ok",
     "timestamp": 1643699123506,
     "user": {
      "displayName": "affective bias 2",
      "photoUrl": "https://lh3.googleusercontent.com/a/default-user=s64",
      "userId": "06253044848815650449"
     },
     "user_tz": -330
    },
    "id": "OPoDfRPGS0oa"
   },
   "outputs": [],
   "source": [
    "def pre_processing(data):\n",
    "  Tokens = []\n",
    "  finalTokens =[]\n",
    "  tokenizer = RegexpTokenizer(r'\\w+')\n",
    "  stop_words = set(stopwords.words('english')) \n",
    "  for i in range(len(data)):\n",
    "    tempTokens = data[i].lower() #converting to lower case\n",
    "    tempTokens = tempTokens.translate(str.maketrans('','',\"~!@#$%^&*()_-+={}[]|\\/><'?.,-+`:;1234567890\"))\n",
    "    tempTokens = tokenizer.tokenize(tempTokens) #tokenization \n",
    "    #tempTokensStopRemoval = [word for word in tempTokens if word not in stop_words] #stopword removal \n",
    "    #Tokens.append(tempTokens) # tokens with out stopword removal \n",
    "    finalTokens.append(tempTokens) # tokens after stopword removal\n",
    "    tokenised =  finalTokens\n",
    "  \n",
    "  # De-tokenized sentances\n",
    "  deTokenized = []\n",
    "  for j in range(len(finalTokens)):\n",
    "    tempTokens = []\n",
    "    tempDetoken = finalTokens[j]\n",
    "    tempDetoken = \"\".join([\" \"+i if not i.startswith(\"'\") and i not in string.punctuation else i for i in tempDetoken]).strip()\n",
    "    deTokenized.append(tempDetoken)\n",
    "\n",
    "  return deTokenized\n"
   ]
  },
  {
   "cell_type": "code",
   "execution_count": 8,
   "metadata": {
    "executionInfo": {
     "elapsed": 14,
     "status": "ok",
     "timestamp": 1643699127166,
     "user": {
      "displayName": "affective bias 2",
      "photoUrl": "https://lh3.googleusercontent.com/a/default-user=s64",
      "userId": "06253044848815650449"
     },
     "user_tz": -330
    },
    "id": "eoe_2tT9S3xB"
   },
   "outputs": [],
   "source": [
    "########################## EEC data and label pre-processing #######################\n",
    "eec_data_final = pre_processing(eec_data)\n",
    "eec_labels_final = to_categorical(eec_labels,num_classes=4)"
   ]
  },
  {
   "cell_type": "code",
   "execution_count": 9,
   "metadata": {
    "executionInfo": {
     "elapsed": 13,
     "status": "ok",
     "timestamp": 1643699128121,
     "user": {
      "displayName": "affective bias 2",
      "photoUrl": "https://lh3.googleusercontent.com/a/default-user=s64",
      "userId": "06253044848815650449"
     },
     "user_tz": -330
    },
    "id": "ZJiKjpFsTGk0"
   },
   "outputs": [],
   "source": [
    "def get_inputs(tweets, tokenizer, max_len=30):\n",
    "    \"\"\" Gets tensors from text using the tokenizer provided\"\"\"\n",
    "    inps = [tokenizer.encode_plus(t, max_length=max_len, pad_to_max_length=True, add_special_tokens=True) for t in tweets]\n",
    "    inp_tok = np.array([a['input_ids'] for a in inps])\n",
    "    ids = np.array([a['attention_mask'] for a in inps])\n",
    "    segments = np.array([a['token_type_ids'] for a in inps])\n",
    "    return inp_tok, ids, segments"
   ]
  },
  {
   "cell_type": "code",
   "execution_count": 10,
   "metadata": {
    "colab": {
     "base_uri": "https://localhost:8080/",
     "height": 113,
     "referenced_widgets": [
      "7b0ac3451e9d4edaa3c288af74749dd3",
      "4d7dcefc6bf24a6eb351723c9d7b3e06",
      "2c7fd3162c7b49088cbe30f26269258c",
      "23c0e76fd0024e5a8925889158d91414",
      "597d503c6da2406c8d8cbdcd26aee5fe",
      "b4888e8cfcb843ad8b46f86705109910",
      "8edd8d17f3914561851dee8e707d2f48",
      "c4c90576a8744a3ab02e8f77822dca8b",
      "01e10e89d5ce4d95bb8adaf14f5fb66c",
      "ad4a548c17ae4f88a77d960971edec23",
      "dcc9208434974c13ba7c0afb5ab66eda",
      "ed0bfc8523fe45c1b3470162830f9a17",
      "ec859417a6024eb8b15db8bf3b31dda4",
      "3abc37f9dbb2477683856ab73b61f722",
      "bb80c1ee520f45dfb0a0a958fdacd01e",
      "57f6a3ada60044bd8ba459019559c863",
      "e34bca3d2a464609aa6be8f592df0940",
      "30906a16758e444ab0d380af423d3ad4",
      "71a6263d4f8d4364b905b9f2f5f19f45",
      "77f7b8cae1834b5ba18ac33ed24f9fcc",
      "1bf55c35ef6946b8991760c7042581c0",
      "bb417cd381a64a808b8e1cac762b81af",
      "0ea6d0e84c5d4137b1b76aa04ea6bf3f",
      "a05a30f7af2944cfa2d08d19e0ab5e7a",
      "99c94bde0ba2411eb5f1accdd213d0a7",
      "a08c67ea5fc34c71aa451c2c4994f354",
      "7221dc89b66d4ade9ca5b2a79d7657f8",
      "ac06f648c48a4302986b08e5a97d0134",
      "1dd121873b88450d8b94e83533504877",
      "898111b5841b48c28b9396f55065be78",
      "8f18f0c66cf142299d62fcf80c35fcce",
      "52908343bdfd48fca554411d543571a0",
      "a54c2595fb324aec88dbc1cd69d397fe"
     ]
    },
    "executionInfo": {
     "elapsed": 4656,
     "status": "ok",
     "timestamp": 1643699134461,
     "user": {
      "displayName": "affective bias 2",
      "photoUrl": "https://lh3.googleusercontent.com/a/default-user=s64",
      "userId": "06253044848815650449"
     },
     "user_tz": -330
    },
    "id": "Mwcrpvx4TIwX",
    "outputId": "b6c0269f-30bc-4091-d308-e960207a9809"
   },
   "outputs": [],
   "source": [
    "# This is the identifier of the model. The library need this ID to download the weights and initialize the architecture\n",
    "# here is all the supported ones:\n",
    "# https://huggingface.co/transformers/pretrained_models.html\n",
    "xlnet_model = 'xlnet-large-cased' #xlnet-base-cased-spiece.model, xlnet-large-cased\n",
    "xlnet_tokenizer = XLNetTokenizer.from_pretrained(xlnet_model)"
   ]
  },
  {
   "cell_type": "code",
   "execution_count": 11,
   "metadata": {
    "colab": {
     "base_uri": "https://localhost:8080/"
    },
    "executionInfo": {
     "elapsed": 1742,
     "status": "ok",
     "timestamp": 1643699136193,
     "user": {
      "displayName": "affective bias 2",
      "photoUrl": "https://lh3.googleusercontent.com/a/default-user=s64",
      "userId": "06253044848815650449"
     },
     "user_tz": -330
    },
    "id": "lT1ynO0CTd4b",
    "outputId": "2a740642-6484-4ec8-a7c4-9f2253c3becd"
   },
   "outputs": [
    {
     "name": "stderr",
     "output_type": "stream",
     "text": [
      "Truncation was not explicitly activated but `max_length` is provided a specific value, please use `truncation=True` to explicitly truncate examples to max length. Defaulting to 'longest_first' truncation strategy. If you encode pairs of sequences (GLUE-style) with the tokenizer you can select this strategy more precisely by providing a specific strategy to `truncation`.\n",
      "C:\\Users\\cidal\\anaconda3\\lib\\site-packages\\transformers\\tokenization_utils_base.py:2271: FutureWarning: The `pad_to_max_length` argument is deprecated and will be removed in a future version, use `padding=True` or `padding='longest'` to pad to the longest sequence in the batch, or use `padding='max_length'` to pad to a max length. In this case, you can give a specific length with `max_length` (e.g. `max_length=45`) or leave max_length to None to pad to the maximal input size of the model (e.g. 512 for Bert).\n",
      "  warnings.warn(\n"
     ]
    },
    {
     "name": "stdout",
     "output_type": "stream",
     "text": [
      "train token shape:(8400, 30)\n"
     ]
    }
   ],
   "source": [
    "x_eec_tokens, x_eec_ids, x_eec_segments = get_inputs(eec_data_final, xlnet_tokenizer)\n",
    "print(\"train token shape:\" +str(x_eec_tokens.shape))"
   ]
  },
  {
   "cell_type": "code",
   "execution_count": 12,
   "metadata": {
    "executionInfo": {
     "elapsed": 4,
     "status": "ok",
     "timestamp": 1643699139102,
     "user": {
      "displayName": "affective bias 2",
      "photoUrl": "https://lh3.googleusercontent.com/a/default-user=s64",
      "userId": "06253044848815650449"
     },
     "user_tz": -330
    },
    "id": "4uElbbMSTj9e"
   },
   "outputs": [],
   "source": [
    "def create_xlnet(mname):\n",
    "    \"\"\" Creates the model. It is composed of the XLNet main block and then\n",
    "    a classification head its added\n",
    "    \"\"\"\n",
    "    # Define token ids as inputs\n",
    "    word_inputs = tf.keras.Input(shape=(30,), name='word_inputs', dtype='int32')\n",
    "\n",
    "    # Call XLNet model\n",
    "    xlnet = TFXLNetModel.from_pretrained(mname)\n",
    "    xlnet_encodings = xlnet(word_inputs)[0]\n",
    "\n",
    "    # CLASSIFICATION HEAD \n",
    "    # Collect last step from last hidden state (CLS)\n",
    "    doc_encoding = tf.squeeze(xlnet_encodings[:, -1:, :], axis=1)\n",
    "    # Apply dropout for regularization\n",
    "    #doc_encoding = tf.keras.layers.Dropout(.1)(doc_encoding)\n",
    "    # Final output \n",
    "    outputs = tf.keras.layers.Dense(4, activation='softmax', name='outputs')(doc_encoding)\n",
    "\n",
    "    # Compile model\n",
    "    model = tf.keras.Model(inputs=[word_inputs], outputs=[outputs])\n",
    "    model.compile(optimizer=tf.keras.optimizers.Adam(lr=0.00001), loss='categorical_crossentropy', metrics=['accuracy'])\n",
    "    return model"
   ]
  },
  {
   "cell_type": "code",
   "execution_count": 13,
   "metadata": {
    "colab": {
     "base_uri": "https://localhost:8080/"
    },
    "executionInfo": {
     "elapsed": 99165,
     "status": "ok",
     "timestamp": 1643699998814,
     "user": {
      "displayName": "affective bias 2",
      "photoUrl": "https://lh3.googleusercontent.com/a/default-user=s64",
      "userId": "06253044848815650449"
     },
     "user_tz": -330
    },
    "id": "1FlVKERhTpLZ",
    "outputId": "0307e1bd-73c1-4ac5-d0e8-3ba818c33b12"
   },
   "outputs": [
    {
     "name": "stderr",
     "output_type": "stream",
     "text": [
      "Some layers from the model checkpoint at xlnet-large-cased were not used when initializing TFXLNetModel: ['lm_loss']\n",
      "- This IS expected if you are initializing TFXLNetModel from the checkpoint of a model trained on another task or with another architecture (e.g. initializing a BertForSequenceClassification model from a BertForPreTraining model).\n",
      "- This IS NOT expected if you are initializing TFXLNetModel from the checkpoint of a model that you expect to be exactly identical (initializing a BertForSequenceClassification model from a BertForSequenceClassification model).\n",
      "All the layers of TFXLNetModel were initialized from the model checkpoint at xlnet-large-cased.\n",
      "If your task is similar to the task the model of the checkpoint was trained on, you can already use TFXLNetModel for predictions without further training.\n",
      "C:\\Users\\cidal\\anaconda3\\lib\\site-packages\\keras\\optimizer_v2\\adam.py:105: UserWarning: The `lr` argument is deprecated, use `learning_rate` instead.\n",
      "  super(Adam, self).__init__(name, **kwargs)\n"
     ]
    }
   ],
   "source": [
    "best_model = create_xlnet(xlnet_model)\n",
    "best_model.load_weights('models/xlnet/best_model/xlnet_semeval_lr00001_bs64.h5')\n",
    "predict_eec = best_model.predict(x_eec_tokens)"
   ]
  },
  {
   "cell_type": "code",
   "execution_count": 14,
   "metadata": {
    "executionInfo": {
     "elapsed": 42,
     "status": "ok",
     "timestamp": 1643699998816,
     "user": {
      "displayName": "affective bias 2",
      "photoUrl": "https://lh3.googleusercontent.com/a/default-user=s64",
      "userId": "06253044848815650449"
     },
     "user_tz": -330
    },
    "id": "eY39ASUlTsw6"
   },
   "outputs": [],
   "source": [
    "y_predicted = np.argmax(predict_eec, axis = 1)\n",
    "predict_intensity = np.amax(predict_eec, axis = 1)"
   ]
  },
  {
   "cell_type": "code",
   "execution_count": 15,
   "metadata": {
    "colab": {
     "base_uri": "https://localhost:8080/"
    },
    "executionInfo": {
     "elapsed": 40,
     "status": "ok",
     "timestamp": 1643699998818,
     "user": {
      "displayName": "affective bias 2",
      "photoUrl": "https://lh3.googleusercontent.com/a/default-user=s64",
      "userId": "06253044848815650449"
     },
     "user_tz": -330
    },
    "id": "YXdgS2o3HPRM",
    "outputId": "c7f17a28-b0ef-49a1-cdf7-bc743fbd736f"
   },
   "outputs": [
    {
     "name": "stdout",
     "output_type": "stream",
     "text": [
      "[[9.8868048e-01 4.2458349e-03 8.2936502e-05 6.9908015e-03]\n",
      " [9.9354953e-01 3.1029698e-03 4.6291665e-05 3.3011842e-03]\n",
      " [8.8850307e-01 2.9309168e-02 8.7939063e-04 8.1308417e-02]\n",
      " [9.9034250e-01 4.5679696e-03 7.6940312e-05 5.0125835e-03]\n",
      " [7.6441443e-01 5.3748969e-02 1.5660550e-03 1.8027055e-01]\n",
      " [1.1233350e-02 9.9138450e-03 4.6652521e-04 9.7838634e-01]\n",
      " [1.7907228e-02 2.0933634e-02 3.3969697e-04 9.6081942e-01]\n",
      " [7.2770886e-02 7.3848248e-02 2.8816430e-04 8.5309261e-01]\n",
      " [4.3353707e-02 7.6152042e-02 4.6314203e-04 8.8003111e-01]\n",
      " [1.0875711e-01 6.7402691e-02 1.0895014e-03 8.2275075e-01]]\n",
      "[0.9886805  0.9935495  0.8885031  0.9903425  0.7644144  0.97838634\n",
      " 0.9608194  0.8530926  0.8800311  0.82275075]\n"
     ]
    }
   ],
   "source": [
    "print(predict_eec[0:10])\n",
    "print(predict_intensity[0:10])"
   ]
  },
  {
   "cell_type": "code",
   "execution_count": 16,
   "metadata": {
    "executionInfo": {
     "elapsed": 34,
     "status": "ok",
     "timestamp": 1643699998819,
     "user": {
      "displayName": "affective bias 2",
      "photoUrl": "https://lh3.googleusercontent.com/a/default-user=s64",
      "userId": "06253044848815650449"
     },
     "user_tz": -330
    },
    "id": "rWhusLSjHeDv"
   },
   "outputs": [],
   "source": [
    "temp = np.hstack((np.reshape(eec_data,(len(eec_data),1)),np.reshape(y_predicted,(len(y_predicted),1))))\n",
    "eec_prediction2csv = np.hstack((temp,np.reshape(predict_intensity,(len(predict_intensity),1))))"
   ]
  },
  {
   "cell_type": "code",
   "execution_count": 17,
   "metadata": {
    "colab": {
     "base_uri": "https://localhost:8080/"
    },
    "executionInfo": {
     "elapsed": 32,
     "status": "ok",
     "timestamp": 1643699998820,
     "user": {
      "displayName": "affective bias 2",
      "photoUrl": "https://lh3.googleusercontent.com/a/default-user=s64",
      "userId": "06253044848815650449"
     },
     "user_tz": -330
    },
    "id": "jeCg_1HhHjs6",
    "outputId": "6c5e1fff-eb14-46d0-a6b6-90725c07bc94"
   },
   "outputs": [
    {
     "data": {
      "text/plain": [
       "array([['Alonzo feels angry.', '0', '0.9886805'],\n",
       "       ['Alonzo feels furious.', '0', '0.9935495'],\n",
       "       ['Alonzo feels irritated.', '0', '0.8885031'],\n",
       "       ['Alonzo feels enraged.', '0', '0.9903425'],\n",
       "       ['Alonzo feels annoyed.', '0', '0.7644144'],\n",
       "       ['Alonzo feels sad.', '3', '0.97838634'],\n",
       "       ['Alonzo feels depressed.', '3', '0.9608194'],\n",
       "       ['Alonzo feels devastated.', '3', '0.8530926'],\n",
       "       ['Alonzo feels miserable.', '3', '0.8800311'],\n",
       "       ['Alonzo feels disappointed.', '3', '0.82275075']], dtype='<U100')"
      ]
     },
     "execution_count": 17,
     "metadata": {},
     "output_type": "execute_result"
    }
   ],
   "source": [
    "eec_prediction2csv[0:10]"
   ]
  },
  {
   "cell_type": "code",
   "execution_count": 18,
   "metadata": {
    "executionInfo": {
     "elapsed": 26,
     "status": "ok",
     "timestamp": 1643699998821,
     "user": {
      "displayName": "affective bias 2",
      "photoUrl": "https://lh3.googleusercontent.com/a/default-user=s64",
      "userId": "06253044848815650449"
     },
     "user_tz": -330
    },
    "id": "tAhNjox3Hpe6"
   },
   "outputs": [],
   "source": [
    "# convert array into dataframe\n",
    "tempDF = pd.DataFrame(eec_prediction2csv)\n",
    "tempDF.to_csv(\"predictions_evaluation_corpus/xlnet/xlnet_semeval_eec_predictions.csv\")"
   ]
  },
  {
   "cell_type": "code",
   "execution_count": 19,
   "metadata": {
    "colab": {
     "base_uri": "https://localhost:8080/"
    },
    "executionInfo": {
     "elapsed": 24,
     "status": "ok",
     "timestamp": 1643699998822,
     "user": {
      "displayName": "affective bias 2",
      "photoUrl": "https://lh3.googleusercontent.com/a/default-user=s64",
      "userId": "06253044848815650449"
     },
     "user_tz": -330
    },
    "id": "bppWFO84TzEJ",
    "outputId": "b894a032-ae85-4e1b-c857-b9e29dcd3e4b"
   },
   "outputs": [
    {
     "name": "stdout",
     "output_type": "stream",
     "text": [
      "              precision    recall  f1-score   support\n",
      "\n",
      "       anger       1.00      0.68      0.81      2100\n",
      "        fear       0.81      0.85      0.82      2100\n",
      "         joy       1.00      0.82      0.90      2100\n",
      "     sadness       0.69      1.00      0.82      2100\n",
      "\n",
      "    accuracy                           0.84      8400\n",
      "   macro avg       0.87      0.84      0.84      8400\n",
      "weighted avg       0.87      0.84      0.84      8400\n",
      "\n"
     ]
    }
   ],
   "source": [
    "\n",
    "class_names=['anger', 'fear', 'joy', 'sadness']\n",
    "print(classification_report(np.int32(eec_labels), y_predicted,target_names=class_names))"
   ]
  },
  {
   "cell_type": "code",
   "execution_count": 21,
   "metadata": {
    "colab": {
     "base_uri": "https://localhost:8080/",
     "height": 361
    },
    "executionInfo": {
     "elapsed": 977,
     "status": "ok",
     "timestamp": 1643699999779,
     "user": {
      "displayName": "affective bias 2",
      "photoUrl": "https://lh3.googleusercontent.com/a/default-user=s64",
      "userId": "06253044848815650449"
     },
     "user_tz": -330
    },
    "id": "qjfWUOCVUM4G",
    "outputId": "53433785-5d09-4594-ea01-b155d7badaeb"
   },
   "outputs": [
    {
     "data": {
      "image/png": "[encoded data removed]",
      "text/plain": [
       "<Figure size 576x396 with 2 Axes>"
      ]
     },
     "metadata": {},
     "output_type": "display_data"
    }
   ],
   "source": [
    "cm = confusion_matrix(y_target=np.int32(eec_labels), y_predicted=np.reshape(y_predicted,(len(y_predicted),1)), binary=False)\n",
    "fig, ax = plot_confusion_matrix(conf_mat=cm,\n",
    "                                show_normed=True,\n",
    "                                cmap=\"YlGnBu\",\n",
    "                                colorbar=True,\n",
    "                                class_names=class_names)\n",
    "tick_marks = np.arange(len(class_names))\n",
    "plt.xticks(tick_marks, class_names,rotation=0, fontsize=11)\n",
    "plt.yticks(tick_marks, class_names, fontsize=11)\n",
    "ax.yaxis.set_ticks_position('left')\n",
    "ax.xaxis.set_ticks_position('top')"
   ]
  }
 ],
 "metadata": {
  "colab": {
   "name": "eec_validation_xlnet.ipynb",
   "provenance": []
  },
  "kernelspec": {
   "display_name": "Python 3 (ipykernel)",
   "language": "python",
   "name": "python3"
  },
  "language_info": {
   "codemirror_mode": {
    "name": "ipython",
    "version": 3
   },
   "file_extension": ".py",
   "mimetype": "text/x-python",
   "name": "python",
   "nbconvert_exporter": "python",
   "pygments_lexer": "ipython3",
   "version": "3.9.7"
  },
  "widgets": {
   "application/vnd.jupyter.widget-state+json": {
    "01e10e89d5ce4d95bb8adaf14f5fb66c": {
     "model_module": "@jupyter-widgets/base",
     "model_module_version": "1.2.0",
     "model_name": "LayoutModel",
     "state": {
      "_model_module": "@jupyter-widgets/base",
      "_model_module_version": "1.2.0",
      "_model_name": "LayoutModel",
      "_view_count": null,
      "_view_module": "@jupyter-widgets/base",
      "_view_module_version": "1.2.0",
      "_view_name": "LayoutView",
      "align_content": null,
      "align_items": null,
      "align_self": null,
      "border": null,
      "bottom": null,
      "display": null,
      "flex": null,
      "flex_flow": null,
      "grid_area": null,
      "grid_auto_columns": null,
      "grid_auto_flow": null,
      "grid_auto_rows": null,
      "grid_column": null,
      "grid_gap": null,
      "grid_row": null,
      "grid_template_areas": null,
      "grid_template_columns": null,
      "grid_template_rows": null,
      "height": null,
      "justify_content": null,
      "justify_items": null,
      "left": null,
      "margin": null,
      "max_height": null,
      "max_width": null,
      "min_height": null,
      "min_width": null,
      "object_fit": null,
      "object_position": null,
      "order": null,
      "overflow": null,
      "overflow_x": null,
      "overflow_y": null,
      "padding": null,
      "right": null,
      "top": null,
      "visibility": null,
      "width": null
     }
    },
    "0ea6d0e84c5d4137b1b76aa04ea6bf3f": {
     "model_module": "@jupyter-widgets/controls",
     "model_module_version": "1.5.0",
     "model_name": "HBoxModel",
     "state": {
      "_dom_classes": [],
      "_model_module": "@jupyter-widgets/controls",
      "_model_module_version": "1.5.0",
      "_model_name": "HBoxModel",
      "_view_count": null,
      "_view_module": "@jupyter-widgets/controls",
      "_view_module_version": "1.5.0",
      "_view_name": "HBoxView",
      "box_style": "",
      "children": [
       "IPY_MODEL_99c94bde0ba2411eb5f1accdd213d0a7",
       "IPY_MODEL_a08c67ea5fc34c71aa451c2c4994f354",
       "IPY_MODEL_7221dc89b66d4ade9ca5b2a79d7657f8"
      ],
      "layout": "IPY_MODEL_a05a30f7af2944cfa2d08d19e0ab5e7a"
     }
    },
    "1bf55c35ef6946b8991760c7042581c0": {
     "model_module": "@jupyter-widgets/controls",
     "model_module_version": "1.5.0",
     "model_name": "DescriptionStyleModel",
     "state": {
      "_model_module": "@jupyter-widgets/controls",
      "_model_module_version": "1.5.0",
      "_model_name": "DescriptionStyleModel",
      "_view_count": null,
      "_view_module": "@jupyter-widgets/base",
      "_view_module_version": "1.2.0",
      "_view_name": "StyleView",
      "description_width": ""
     }
    },
    "1dd121873b88450d8b94e83533504877": {
     "model_module": "@jupyter-widgets/base",
     "model_module_version": "1.2.0",
     "model_name": "LayoutModel",
     "state": {
      "_model_module": "@jupyter-widgets/base",
      "_model_module_version": "1.2.0",
      "_model_name": "LayoutModel",
      "_view_count": null,
      "_view_module": "@jupyter-widgets/base",
      "_view_module_version": "1.2.0",
      "_view_name": "LayoutView",
      "align_content": null,
      "align_items": null,
      "align_self": null,
      "border": null,
      "bottom": null,
      "display": null,
      "flex": null,
      "flex_flow": null,
      "grid_area": null,
      "grid_auto_columns": null,
      "grid_auto_flow": null,
      "grid_auto_rows": null,
      "grid_column": null,
      "grid_gap": null,
      "grid_row": null,
      "grid_template_areas": null,
      "grid_template_columns": null,
      "grid_template_rows": null,
      "height": null,
      "justify_content": null,
      "justify_items": null,
      "left": null,
      "margin": null,
      "max_height": null,
      "max_width": null,
      "min_height": null,
      "min_width": null,
      "object_fit": null,
      "object_position": null,
      "order": null,
      "overflow": null,
      "overflow_x": null,
      "overflow_y": null,
      "padding": null,
      "right": null,
      "top": null,
      "visibility": null,
      "width": null
     }
    },
    "23c0e76fd0024e5a8925889158d91414": {
     "model_module": "@jupyter-widgets/controls",
     "model_module_version": "1.5.0",
     "model_name": "FloatProgressModel",
     "state": {
      "_dom_classes": [],
      "_model_module": "@jupyter-widgets/controls",
      "_model_module_version": "1.5.0",
      "_model_name": "FloatProgressModel",
      "_view_count": null,
      "_view_module": "@jupyter-widgets/controls",
      "_view_module_version": "1.5.0",
      "_view_name": "ProgressView",
      "bar_style": "success",
      "description": "",
      "description_tooltip": null,
      "layout": "IPY_MODEL_01e10e89d5ce4d95bb8adaf14f5fb66c",
      "max": 798011,
      "min": 0,
      "orientation": "horizontal",
      "style": "IPY_MODEL_c4c90576a8744a3ab02e8f77822dca8b",
      "value": 798011
     }
    },
    "2c7fd3162c7b49088cbe30f26269258c": {
     "model_module": "@jupyter-widgets/controls",
     "model_module_version": "1.5.0",
     "model_name": "HTMLModel",
     "state": {
      "_dom_classes": [],
      "_model_module": "@jupyter-widgets/controls",
      "_model_module_version": "1.5.0",
      "_model_name": "HTMLModel",
      "_view_count": null,
      "_view_module": "@jupyter-widgets/controls",
      "_view_module_version": "1.5.0",
      "_view_name": "HTMLView",
      "description": "",
      "description_tooltip": null,
      "layout": "IPY_MODEL_8edd8d17f3914561851dee8e707d2f48",
      "placeholder": "​",
      "style": "IPY_MODEL_b4888e8cfcb843ad8b46f86705109910",
      "value": "Downloading: 100%"
     }
    },
    "30906a16758e444ab0d380af423d3ad4": {
     "model_module": "@jupyter-widgets/base",
     "model_module_version": "1.2.0",
     "model_name": "LayoutModel",
     "state": {
      "_model_module": "@jupyter-widgets/base",
      "_model_module_version": "1.2.0",
      "_model_name": "LayoutModel",
      "_view_count": null,
      "_view_module": "@jupyter-widgets/base",
      "_view_module_version": "1.2.0",
      "_view_name": "LayoutView",
      "align_content": null,
      "align_items": null,
      "align_self": null,
      "border": null,
      "bottom": null,
      "display": null,
      "flex": null,
      "flex_flow": null,
      "grid_area": null,
      "grid_auto_columns": null,
      "grid_auto_flow": null,
      "grid_auto_rows": null,
      "grid_column": null,
      "grid_gap": null,
      "grid_row": null,
      "grid_template_areas": null,
      "grid_template_columns": null,
      "grid_template_rows": null,
      "height": null,
      "justify_content": null,
      "justify_items": null,
      "left": null,
      "margin": null,
      "max_height": null,
      "max_width": null,
      "min_height": null,
      "min_width": null,
      "object_fit": null,
      "object_position": null,
      "order": null,
      "overflow": null,
      "overflow_x": null,
      "overflow_y": null,
      "padding": null,
      "right": null,
      "top": null,
      "visibility": null,
      "width": null
     }
    },
    "3abc37f9dbb2477683856ab73b61f722": {
     "model_module": "@jupyter-widgets/controls",
     "model_module_version": "1.5.0",
     "model_name": "HTMLModel",
     "state": {
      "_dom_classes": [],
      "_model_module": "@jupyter-widgets/controls",
      "_model_module_version": "1.5.0",
      "_model_name": "HTMLModel",
      "_view_count": null,
      "_view_module": "@jupyter-widgets/controls",
      "_view_module_version": "1.5.0",
      "_view_name": "HTMLView",
      "description": "",
      "description_tooltip": null,
      "layout": "IPY_MODEL_30906a16758e444ab0d380af423d3ad4",
      "placeholder": "​",
      "style": "IPY_MODEL_e34bca3d2a464609aa6be8f592df0940",
      "value": "Downloading: 100%"
     }
    },
    "4d7dcefc6bf24a6eb351723c9d7b3e06": {
     "model_module": "@jupyter-widgets/base",
     "model_module_version": "1.2.0",
     "model_name": "LayoutModel",
     "state": {
      "_model_module": "@jupyter-widgets/base",
      "_model_module_version": "1.2.0",
      "_model_name": "LayoutModel",
      "_view_count": null,
      "_view_module": "@jupyter-widgets/base",
      "_view_module_version": "1.2.0",
      "_view_name": "LayoutView",
      "align_content": null,
      "align_items": null,
      "align_self": null,
      "border": null,
      "bottom": null,
      "display": null,
      "flex": null,
      "flex_flow": null,
      "grid_area": null,
      "grid_auto_columns": null,
      "grid_auto_flow": null,
      "grid_auto_rows": null,
      "grid_column": null,
      "grid_gap": null,
      "grid_row": null,
      "grid_template_areas": null,
      "grid_template_columns": null,
      "grid_template_rows": null,
      "height": null,
      "justify_content": null,
      "justify_items": null,
      "left": null,
      "margin": null,
      "max_height": null,
      "max_width": null,
      "min_height": null,
      "min_width": null,
      "object_fit": null,
      "object_position": null,
      "order": null,
      "overflow": null,
      "overflow_x": null,
      "overflow_y": null,
      "padding": null,
      "right": null,
      "top": null,
      "visibility": null,
      "width": null
     }
    },
    "52908343bdfd48fca554411d543571a0": {
     "model_module": "@jupyter-widgets/controls",
     "model_module_version": "1.5.0",
     "model_name": "DescriptionStyleModel",
     "state": {
      "_model_module": "@jupyter-widgets/controls",
      "_model_module_version": "1.5.0",
      "_model_name": "DescriptionStyleModel",
      "_view_count": null,
      "_view_module": "@jupyter-widgets/base",
      "_view_module_version": "1.2.0",
      "_view_name": "StyleView",
      "description_width": ""
     }
    },
    "57f6a3ada60044bd8ba459019559c863": {
     "model_module": "@jupyter-widgets/controls",
     "model_module_version": "1.5.0",
     "model_name": "HTMLModel",
     "state": {
      "_dom_classes": [],
      "_model_module": "@jupyter-widgets/controls",
      "_model_module_version": "1.5.0",
      "_model_name": "HTMLModel",
      "_view_count": null,
      "_view_module": "@jupyter-widgets/controls",
      "_view_module_version": "1.5.0",
      "_view_name": "HTMLView",
      "description": "",
      "description_tooltip": null,
      "layout": "IPY_MODEL_bb417cd381a64a808b8e1cac762b81af",
      "placeholder": "​",
      "style": "IPY_MODEL_1bf55c35ef6946b8991760c7042581c0",
      "value": " 1.32M/1.32M [00:00&lt;00:00, 2.00MB/s]"
     }
    },
    "597d503c6da2406c8d8cbdcd26aee5fe": {
     "model_module": "@jupyter-widgets/controls",
     "model_module_version": "1.5.0",
     "model_name": "HTMLModel",
     "state": {
      "_dom_classes": [],
      "_model_module": "@jupyter-widgets/controls",
      "_model_module_version": "1.5.0",
      "_model_name": "HTMLModel",
      "_view_count": null,
      "_view_module": "@jupyter-widgets/controls",
      "_view_module_version": "1.5.0",
      "_view_name": "HTMLView",
      "description": "",
      "description_tooltip": null,
      "layout": "IPY_MODEL_dcc9208434974c13ba7c0afb5ab66eda",
      "placeholder": "​",
      "style": "IPY_MODEL_ad4a548c17ae4f88a77d960971edec23",
      "value": " 779k/779k [00:00&lt;00:00, 718kB/s]"
     }
    },
    "71a6263d4f8d4364b905b9f2f5f19f45": {
     "model_module": "@jupyter-widgets/controls",
     "model_module_version": "1.5.0",
     "model_name": "ProgressStyleModel",
     "state": {
      "_model_module": "@jupyter-widgets/controls",
      "_model_module_version": "1.5.0",
      "_model_name": "ProgressStyleModel",
      "_view_count": null,
      "_view_module": "@jupyter-widgets/base",
      "_view_module_version": "1.2.0",
      "_view_name": "StyleView",
      "bar_color": null,
      "description_width": ""
     }
    },
    "7221dc89b66d4ade9ca5b2a79d7657f8": {
     "model_module": "@jupyter-widgets/controls",
     "model_module_version": "1.5.0",
     "model_name": "HTMLModel",
     "state": {
      "_dom_classes": [],
      "_model_module": "@jupyter-widgets/controls",
      "_model_module_version": "1.5.0",
      "_model_name": "HTMLModel",
      "_view_count": null,
      "_view_module": "@jupyter-widgets/controls",
      "_view_module_version": "1.5.0",
      "_view_name": "HTMLView",
      "description": "",
      "description_tooltip": null,
      "layout": "IPY_MODEL_a54c2595fb324aec88dbc1cd69d397fe",
      "placeholder": "​",
      "style": "IPY_MODEL_52908343bdfd48fca554411d543571a0",
      "value": " 761/761 [00:00&lt;00:00, 20.1kB/s]"
     }
    },
    "77f7b8cae1834b5ba18ac33ed24f9fcc": {
     "model_module": "@jupyter-widgets/base",
     "model_module_version": "1.2.0",
     "model_name": "LayoutModel",
     "state": {
      "_model_module": "@jupyter-widgets/base",
      "_model_module_version": "1.2.0",
      "_model_name": "LayoutModel",
      "_view_count": null,
      "_view_module": "@jupyter-widgets/base",
      "_view_module_version": "1.2.0",
      "_view_name": "LayoutView",
      "align_content": null,
      "align_items": null,
      "align_self": null,
      "border": null,
      "bottom": null,
      "display": null,
      "flex": null,
      "flex_flow": null,
      "grid_area": null,
      "grid_auto_columns": null,
      "grid_auto_flow": null,
      "grid_auto_rows": null,
      "grid_column": null,
      "grid_gap": null,
      "grid_row": null,
      "grid_template_areas": null,
      "grid_template_columns": null,
      "grid_template_rows": null,
      "height": null,
      "justify_content": null,
      "justify_items": null,
      "left": null,
      "margin": null,
      "max_height": null,
      "max_width": null,
      "min_height": null,
      "min_width": null,
      "object_fit": null,
      "object_position": null,
      "order": null,
      "overflow": null,
      "overflow_x": null,
      "overflow_y": null,
      "padding": null,
      "right": null,
      "top": null,
      "visibility": null,
      "width": null
     }
    },
    "7b0ac3451e9d4edaa3c288af74749dd3": {
     "model_module": "@jupyter-widgets/controls",
     "model_module_version": "1.5.0",
     "model_name": "HBoxModel",
     "state": {
      "_dom_classes": [],
      "_model_module": "@jupyter-widgets/controls",
      "_model_module_version": "1.5.0",
      "_model_name": "HBoxModel",
      "_view_count": null,
      "_view_module": "@jupyter-widgets/controls",
      "_view_module_version": "1.5.0",
      "_view_name": "HBoxView",
      "box_style": "",
      "children": [
       "IPY_MODEL_2c7fd3162c7b49088cbe30f26269258c",
       "IPY_MODEL_23c0e76fd0024e5a8925889158d91414",
       "IPY_MODEL_597d503c6da2406c8d8cbdcd26aee5fe"
      ],
      "layout": "IPY_MODEL_4d7dcefc6bf24a6eb351723c9d7b3e06"
     }
    },
    "898111b5841b48c28b9396f55065be78": {
     "model_module": "@jupyter-widgets/controls",
     "model_module_version": "1.5.0",
     "model_name": "ProgressStyleModel",
     "state": {
      "_model_module": "@jupyter-widgets/controls",
      "_model_module_version": "1.5.0",
      "_model_name": "ProgressStyleModel",
      "_view_count": null,
      "_view_module": "@jupyter-widgets/base",
      "_view_module_version": "1.2.0",
      "_view_name": "StyleView",
      "bar_color": null,
      "description_width": ""
     }
    },
    "8edd8d17f3914561851dee8e707d2f48": {
     "model_module": "@jupyter-widgets/base",
     "model_module_version": "1.2.0",
     "model_name": "LayoutModel",
     "state": {
      "_model_module": "@jupyter-widgets/base",
      "_model_module_version": "1.2.0",
      "_model_name": "LayoutModel",
      "_view_count": null,
      "_view_module": "@jupyter-widgets/base",
      "_view_module_version": "1.2.0",
      "_view_name": "LayoutView",
      "align_content": null,
      "align_items": null,
      "align_self": null,
      "border": null,
      "bottom": null,
      "display": null,
      "flex": null,
      "flex_flow": null,
      "grid_area": null,
      "grid_auto_columns": null,
      "grid_auto_flow": null,
      "grid_auto_rows": null,
      "grid_column": null,
      "grid_gap": null,
      "grid_row": null,
      "grid_template_areas": null,
      "grid_template_columns": null,
      "grid_template_rows": null,
      "height": null,
      "justify_content": null,
      "justify_items": null,
      "left": null,
      "margin": null,
      "max_height": null,
      "max_width": null,
      "min_height": null,
      "min_width": null,
      "object_fit": null,
      "object_position": null,
      "order": null,
      "overflow": null,
      "overflow_x": null,
      "overflow_y": null,
      "padding": null,
      "right": null,
      "top": null,
      "visibility": null,
      "width": null
     }
    },
    "8f18f0c66cf142299d62fcf80c35fcce": {
     "model_module": "@jupyter-widgets/base",
     "model_module_version": "1.2.0",
     "model_name": "LayoutModel",
     "state": {
      "_model_module": "@jupyter-widgets/base",
      "_model_module_version": "1.2.0",
      "_model_name": "LayoutModel",
      "_view_count": null,
      "_view_module": "@jupyter-widgets/base",
      "_view_module_version": "1.2.0",
      "_view_name": "LayoutView",
      "align_content": null,
      "align_items": null,
      "align_self": null,
      "border": null,
      "bottom": null,
      "display": null,
      "flex": null,
      "flex_flow": null,
      "grid_area": null,
      "grid_auto_columns": null,
      "grid_auto_flow": null,
      "grid_auto_rows": null,
      "grid_column": null,
      "grid_gap": null,
      "grid_row": null,
      "grid_template_areas": null,
      "grid_template_columns": null,
      "grid_template_rows": null,
      "height": null,
      "justify_content": null,
      "justify_items": null,
      "left": null,
      "margin": null,
      "max_height": null,
      "max_width": null,
      "min_height": null,
      "min_width": null,
      "object_fit": null,
      "object_position": null,
      "order": null,
      "overflow": null,
      "overflow_x": null,
      "overflow_y": null,
      "padding": null,
      "right": null,
      "top": null,
      "visibility": null,
      "width": null
     }
    },
    "99c94bde0ba2411eb5f1accdd213d0a7": {
     "model_module": "@jupyter-widgets/controls",
     "model_module_version": "1.5.0",
     "model_name": "HTMLModel",
     "state": {
      "_dom_classes": [],
      "_model_module": "@jupyter-widgets/controls",
      "_model_module_version": "1.5.0",
      "_model_name": "HTMLModel",
      "_view_count": null,
      "_view_module": "@jupyter-widgets/controls",
      "_view_module_version": "1.5.0",
      "_view_name": "HTMLView",
      "description": "",
      "description_tooltip": null,
      "layout": "IPY_MODEL_1dd121873b88450d8b94e83533504877",
      "placeholder": "​",
      "style": "IPY_MODEL_ac06f648c48a4302986b08e5a97d0134",
      "value": "Downloading: 100%"
     }
    },
    "a05a30f7af2944cfa2d08d19e0ab5e7a": {
     "model_module": "@jupyter-widgets/base",
     "model_module_version": "1.2.0",
     "model_name": "LayoutModel",
     "state": {
      "_model_module": "@jupyter-widgets/base",
      "_model_module_version": "1.2.0",
      "_model_name": "LayoutModel",
      "_view_count": null,
      "_view_module": "@jupyter-widgets/base",
      "_view_module_version": "1.2.0",
      "_view_name": "LayoutView",
      "align_content": null,
      "align_items": null,
      "align_self": null,
      "border": null,
      "bottom": null,
      "display": null,
      "flex": null,
      "flex_flow": null,
      "grid_area": null,
      "grid_auto_columns": null,
      "grid_auto_flow": null,
      "grid_auto_rows": null,
      "grid_column": null,
      "grid_gap": null,
      "grid_row": null,
      "grid_template_areas": null,
      "grid_template_columns": null,
      "grid_template_rows": null,
      "height": null,
      "justify_content": null,
      "justify_items": null,
      "left": null,
      "margin": null,
      "max_height": null,
      "max_width": null,
      "min_height": null,
      "min_width": null,
      "object_fit": null,
      "object_position": null,
      "order": null,
      "overflow": null,
      "overflow_x": null,
      "overflow_y": null,
      "padding": null,
      "right": null,
      "top": null,
      "visibility": null,
      "width": null
     }
    },
    "a08c67ea5fc34c71aa451c2c4994f354": {
     "model_module": "@jupyter-widgets/controls",
     "model_module_version": "1.5.0",
     "model_name": "FloatProgressModel",
     "state": {
      "_dom_classes": [],
      "_model_module": "@jupyter-widgets/controls",
      "_model_module_version": "1.5.0",
      "_model_name": "FloatProgressModel",
      "_view_count": null,
      "_view_module": "@jupyter-widgets/controls",
      "_view_module_version": "1.5.0",
      "_view_name": "ProgressView",
      "bar_style": "success",
      "description": "",
      "description_tooltip": null,
      "layout": "IPY_MODEL_8f18f0c66cf142299d62fcf80c35fcce",
      "max": 761,
      "min": 0,
      "orientation": "horizontal",
      "style": "IPY_MODEL_898111b5841b48c28b9396f55065be78",
      "value": 761
     }
    },
    "a54c2595fb324aec88dbc1cd69d397fe": {
     "model_module": "@jupyter-widgets/base",
     "model_module_version": "1.2.0",
     "model_name": "LayoutModel",
     "state": {
      "_model_module": "@jupyter-widgets/base",
      "_model_module_version": "1.2.0",
      "_model_name": "LayoutModel",
      "_view_count": null,
      "_view_module": "@jupyter-widgets/base",
      "_view_module_version": "1.2.0",
      "_view_name": "LayoutView",
      "align_content": null,
      "align_items": null,
      "align_self": null,
      "border": null,
      "bottom": null,
      "display": null,
      "flex": null,
      "flex_flow": null,
      "grid_area": null,
      "grid_auto_columns": null,
      "grid_auto_flow": null,
      "grid_auto_rows": null,
      "grid_column": null,
      "grid_gap": null,
      "grid_row": null,
      "grid_template_areas": null,
      "grid_template_columns": null,
      "grid_template_rows": null,
      "height": null,
      "justify_content": null,
      "justify_items": null,
      "left": null,
      "margin": null,
      "max_height": null,
      "max_width": null,
      "min_height": null,
      "min_width": null,
      "object_fit": null,
      "object_position": null,
      "order": null,
      "overflow": null,
      "overflow_x": null,
      "overflow_y": null,
      "padding": null,
      "right": null,
      "top": null,
      "visibility": null,
      "width": null
     }
    },
    "ac06f648c48a4302986b08e5a97d0134": {
     "model_module": "@jupyter-widgets/controls",
     "model_module_version": "1.5.0",
     "model_name": "DescriptionStyleModel",
     "state": {
      "_model_module": "@jupyter-widgets/controls",
      "_model_module_version": "1.5.0",
      "_model_name": "DescriptionStyleModel",
      "_view_count": null,
      "_view_module": "@jupyter-widgets/base",
      "_view_module_version": "1.2.0",
      "_view_name": "StyleView",
      "description_width": ""
     }
    },
    "ad4a548c17ae4f88a77d960971edec23": {
     "model_module": "@jupyter-widgets/controls",
     "model_module_version": "1.5.0",
     "model_name": "DescriptionStyleModel",
     "state": {
      "_model_module": "@jupyter-widgets/controls",
      "_model_module_version": "1.5.0",
      "_model_name": "DescriptionStyleModel",
      "_view_count": null,
      "_view_module": "@jupyter-widgets/base",
      "_view_module_version": "1.2.0",
      "_view_name": "StyleView",
      "description_width": ""
     }
    },
    "b4888e8cfcb843ad8b46f86705109910": {
     "model_module": "@jupyter-widgets/controls",
     "model_module_version": "1.5.0",
     "model_name": "DescriptionStyleModel",
     "state": {
      "_model_module": "@jupyter-widgets/controls",
      "_model_module_version": "1.5.0",
      "_model_name": "DescriptionStyleModel",
      "_view_count": null,
      "_view_module": "@jupyter-widgets/base",
      "_view_module_version": "1.2.0",
      "_view_name": "StyleView",
      "description_width": ""
     }
    },
    "bb417cd381a64a808b8e1cac762b81af": {
     "model_module": "@jupyter-widgets/base",
     "model_module_version": "1.2.0",
     "model_name": "LayoutModel",
     "state": {
      "_model_module": "@jupyter-widgets/base",
      "_model_module_version": "1.2.0",
      "_model_name": "LayoutModel",
      "_view_count": null,
      "_view_module": "@jupyter-widgets/base",
      "_view_module_version": "1.2.0",
      "_view_name": "LayoutView",
      "align_content": null,
      "align_items": null,
      "align_self": null,
      "border": null,
      "bottom": null,
      "display": null,
      "flex": null,
      "flex_flow": null,
      "grid_area": null,
      "grid_auto_columns": null,
      "grid_auto_flow": null,
      "grid_auto_rows": null,
      "grid_column": null,
      "grid_gap": null,
      "grid_row": null,
      "grid_template_areas": null,
      "grid_template_columns": null,
      "grid_template_rows": null,
      "height": null,
      "justify_content": null,
      "justify_items": null,
      "left": null,
      "margin": null,
      "max_height": null,
      "max_width": null,
      "min_height": null,
      "min_width": null,
      "object_fit": null,
      "object_position": null,
      "order": null,
      "overflow": null,
      "overflow_x": null,
      "overflow_y": null,
      "padding": null,
      "right": null,
      "top": null,
      "visibility": null,
      "width": null
     }
    },
    "bb80c1ee520f45dfb0a0a958fdacd01e": {
     "model_module": "@jupyter-widgets/controls",
     "model_module_version": "1.5.0",
     "model_name": "FloatProgressModel",
     "state": {
      "_dom_classes": [],
      "_model_module": "@jupyter-widgets/controls",
      "_model_module_version": "1.5.0",
      "_model_name": "FloatProgressModel",
      "_view_count": null,
      "_view_module": "@jupyter-widgets/controls",
      "_view_module_version": "1.5.0",
      "_view_name": "ProgressView",
      "bar_style": "success",
      "description": "",
      "description_tooltip": null,
      "layout": "IPY_MODEL_77f7b8cae1834b5ba18ac33ed24f9fcc",
      "max": 1382015,
      "min": 0,
      "orientation": "horizontal",
      "style": "IPY_MODEL_71a6263d4f8d4364b905b9f2f5f19f45",
      "value": 1382015
     }
    },
    "c4c90576a8744a3ab02e8f77822dca8b": {
     "model_module": "@jupyter-widgets/controls",
     "model_module_version": "1.5.0",
     "model_name": "ProgressStyleModel",
     "state": {
      "_model_module": "@jupyter-widgets/controls",
      "_model_module_version": "1.5.0",
      "_model_name": "ProgressStyleModel",
      "_view_count": null,
      "_view_module": "@jupyter-widgets/base",
      "_view_module_version": "1.2.0",
      "_view_name": "StyleView",
      "bar_color": null,
      "description_width": ""
     }
    },
    "dcc9208434974c13ba7c0afb5ab66eda": {
     "model_module": "@jupyter-widgets/base",
     "model_module_version": "1.2.0",
     "model_name": "LayoutModel",
     "state": {
      "_model_module": "@jupyter-widgets/base",
      "_model_module_version": "1.2.0",
      "_model_name": "LayoutModel",
      "_view_count": null,
      "_view_module": "@jupyter-widgets/base",
      "_view_module_version": "1.2.0",
      "_view_name": "LayoutView",
      "align_content": null,
      "align_items": null,
      "align_self": null,
      "border": null,
      "bottom": null,
      "display": null,
      "flex": null,
      "flex_flow": null,
      "grid_area": null,
      "grid_auto_columns": null,
      "grid_auto_flow": null,
      "grid_auto_rows": null,
      "grid_column": null,
      "grid_gap": null,
      "grid_row": null,
      "grid_template_areas": null,
      "grid_template_columns": null,
      "grid_template_rows": null,
      "height": null,
      "justify_content": null,
      "justify_items": null,
      "left": null,
      "margin": null,
      "max_height": null,
      "max_width": null,
      "min_height": null,
      "min_width": null,
      "object_fit": null,
      "object_position": null,
      "order": null,
      "overflow": null,
      "overflow_x": null,
      "overflow_y": null,
      "padding": null,
      "right": null,
      "top": null,
      "visibility": null,
      "width": null
     }
    },
    "e34bca3d2a464609aa6be8f592df0940": {
     "model_module": "@jupyter-widgets/controls",
     "model_module_version": "1.5.0",
     "model_name": "DescriptionStyleModel",
     "state": {
      "_model_module": "@jupyter-widgets/controls",
      "_model_module_version": "1.5.0",
      "_model_name": "DescriptionStyleModel",
      "_view_count": null,
      "_view_module": "@jupyter-widgets/base",
      "_view_module_version": "1.2.0",
      "_view_name": "StyleView",
      "description_width": ""
     }
    },
    "ec859417a6024eb8b15db8bf3b31dda4": {
     "model_module": "@jupyter-widgets/base",
     "model_module_version": "1.2.0",
     "model_name": "LayoutModel",
     "state": {
      "_model_module": "@jupyter-widgets/base",
      "_model_module_version": "1.2.0",
      "_model_name": "LayoutModel",
      "_view_count": null,
      "_view_module": "@jupyter-widgets/base",
      "_view_module_version": "1.2.0",
      "_view_name": "LayoutView",
      "align_content": null,
      "align_items": null,
      "align_self": null,
      "border": null,
      "bottom": null,
      "display": null,
      "flex": null,
      "flex_flow": null,
      "grid_area": null,
      "grid_auto_columns": null,
      "grid_auto_flow": null,
      "grid_auto_rows": null,
      "grid_column": null,
      "grid_gap": null,
      "grid_row": null,
      "grid_template_areas": null,
      "grid_template_columns": null,
      "grid_template_rows": null,
      "height": null,
      "justify_content": null,
      "justify_items": null,
      "left": null,
      "margin": null,
      "max_height": null,
      "max_width": null,
      "min_height": null,
      "min_width": null,
      "object_fit": null,
      "object_position": null,
      "order": null,
      "overflow": null,
      "overflow_x": null,
      "overflow_y": null,
      "padding": null,
      "right": null,
      "top": null,
      "visibility": null,
      "width": null
     }
    },
    "ed0bfc8523fe45c1b3470162830f9a17": {
     "model_module": "@jupyter-widgets/controls",
     "model_module_version": "1.5.0",
     "model_name": "HBoxModel",
     "state": {
      "_dom_classes": [],
      "_model_module": "@jupyter-widgets/controls",
      "_model_module_version": "1.5.0",
      "_model_name": "HBoxModel",
      "_view_count": null,
      "_view_module": "@jupyter-widgets/controls",
      "_view_module_version": "1.5.0",
      "_view_name": "HBoxView",
      "box_style": "",
      "children": [
       "IPY_MODEL_3abc37f9dbb2477683856ab73b61f722",
       "IPY_MODEL_bb80c1ee520f45dfb0a0a958fdacd01e",
       "IPY_MODEL_57f6a3ada60044bd8ba459019559c863"
      ],
      "layout": "IPY_MODEL_ec859417a6024eb8b15db8bf3b31dda4"
     }
    }
   }
  }
 },
 "nbformat": 4,
 "nbformat_minor": 1
}
